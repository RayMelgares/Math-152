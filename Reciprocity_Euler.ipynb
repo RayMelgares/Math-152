{
  "nbformat": 4,
  "nbformat_minor": 0,
  "metadata": {
    "colab": {
      "provenance": [],
      "include_colab_link": true
    },
    "kernelspec": {
      "name": "python3",
      "display_name": "Python 3"
    },
    "language_info": {
      "name": "python"
    }
  },
  "cells": [
    {
      "cell_type": "markdown",
      "metadata": {
        "id": "view-in-github",
        "colab_type": "text"
      },
      "source": [
        "<a href=\"https://colab.research.google.com/github/RayMelgares/Math-152/blob/main/Reciprocity_Euler.ipynb\" target=\"_parent\"><img src=\"https://colab.research.google.com/assets/colab-badge.svg\" alt=\"Open In Colab\"/></a>"
      ]
    },
    {
      "cell_type": "markdown",
      "source": [
        "### Introduction: Exploration of Reciprocity Laws in the Spirit of Euler.\n",
        "\n",
        "In this exploration, we will be examining which primes can be written as a sum of squares in the form: $p=x^2+Ny^2$, where $p$ is an odd prime and $N$ is a positive integer. This is an extention from Fermat's \"Christmas Theorem\" which states that an odd prime $p$ can be expressed as a sum of two squares if and only if $p \\,\\%\\, 4$ is congruent to 1. Euler later looked at $p=x^2+Ny^2$ and like Fermat, found what we call a reciprocity law, a theorem saying that a prime can be written as $p=x^2+Ny^2$ if and only if $p \\,\\%\\ M$ belongs to a finite set. This exploration will be using code to follow in his footsteps, focusing on $M=4N$. The following code below gives us a list of primes of up to a given value, using a method similair to the Sieve of Eratosthenes. We will choose the primes up to $1000000$, the first $78498$ primes.\n",
        "\n",
        "\n",
        "\n",
        "\n"
      ],
      "metadata": {
        "id": "Lrb89jW_7yzU"
      }
    },
    {
      "cell_type": "code",
      "execution_count": 5,
      "metadata": {
        "id": "_G3r5O6yv2vA"
      },
      "outputs": [],
      "source": [
        "from math import sqrt\n",
        "\n",
        "def isprime_list(n):\n",
        "    ''' \n",
        "    Return a list of length n+1\n",
        "    with Trues at prime indices and Falses at composite indices.\n",
        "    '''\n",
        "    flags = [True] * (n+1)  # A list [True, True, True,...] to start.\n",
        "    flags[0] = False  # Zero is not prime.  So its flag is set to False.\n",
        "    flags[1] = False  # One is not prime.  So its flag is set to False.\n",
        "    flags[4::2] = [False] * ((n-2)//2)\n",
        "    p = 3\n",
        "    while p <= sqrt(n):  # We only need to sieve by p is p <= sqrt(n).\n",
        "        if flags[p]:  # We sieve the multiples of p if flags[p]=True.\n",
        "            flags[p*p::2*p] = [False] * ((n-p*p)//(2*p)+1) # Sieves out multiples of p, starting at p*p.\n",
        "        p = p + 2 # Try the next value of p.\n",
        "        \n",
        "    return flags\n",
        "\n",
        "def where(L):\n",
        "    '''\n",
        "    Take a list of booleans as input and\n",
        "    outputs the list of indices where True occurs.\n",
        "    '''\n",
        "    return [n for n in range(len(L)) if L[n]]\n",
        "\n",
        "primes = where(isprime_list(1000000)) # The primes up to 1 million, in a list."
      ]
    },
    {
      "cell_type": "markdown",
      "source": [
        "###1. Function for Primes That Can Be Expressed as $x^2 + Ny^2$"
      ],
      "metadata": {
        "id": "W0Wdw3GwzgoT"
      }
    },
    {
      "cell_type": "markdown",
      "source": [
        "To start off, while looking at the `Euler` function we can examine $p=x^2+Ny^2$ by using a brute force approach by iterating through all possible $x$ and $y$ values. However, with the `Euler_alt` function, instead of using two loops we can use a single loop on the y variable to deduce the number of values needing to be tested. By adding the sqrt function we can cut the number of operations needing to be ran and we can see through the `%timeit` how effective this becomes."
      ],
      "metadata": {
        "id": "UxADEla76d4V"
      }
    },
    {
      "cell_type": "code",
      "source": [
        "from math import sqrt,floor,ceil\n",
        "\n",
        "def Euler(p, N): # O(n) pretty sure ~sqrt(n) * sqrt(n)\n",
        "  x_max = floor(sqrt(p))\n",
        "  y_max = ceil(sqrt(p) / N)\n",
        "  x = 1\n",
        "  y = 1\n",
        "  while(x <= x_max):\n",
        "    while(y <= y_max):\n",
        "      if(x**2 + N*y**2 == p):\n",
        "        return True\n",
        "      y += 1\n",
        "    y = 1\n",
        "    x += 1\n",
        "\n",
        "  return False\n",
        "\n",
        "def Euler_alt(p, N): # faster, O(n^(1/2))\n",
        "  y = sqrt(p // N) // 1 # set y to be an integer so that Ny^2 <= p\n",
        "  while(y > 0):\n",
        "    sqrt_of_remainder = sqrt(p - N*y**2) #find remainder of p - Ny^2 and sqrt it to find x\n",
        "    if(sqrt_of_remainder % 1 == 0 and sqrt_of_remainder > 0): # check that x is int and not 0\n",
        "      return True\n",
        "    y -= 1\n",
        "\n",
        "  return False\n",
        "\n",
        "\n",
        "\n",
        "%timeit Euler(10001,7)\n",
        "%timeit Euler_alt(10001, 7)"
      ],
      "metadata": {
        "id": "KRLE2HWDyHtJ",
        "colab": {
          "base_uri": "https://localhost:8080/"
        },
        "outputId": "f3e4f154-f099-48fc-d631-50dc58eda98c"
      },
      "execution_count": 6,
      "outputs": [
        {
          "output_type": "stream",
          "name": "stdout",
          "text": [
            "882 µs ± 9.95 µs per loop (mean ± std. dev. of 7 runs, 1000 loops each)\n",
            "17 µs ± 3.72 µs per loop (mean ± std. dev. of 7 runs, 100000 loops each)\n"
          ]
        }
      ]
    },
    {
      "cell_type": "markdown",
      "source": [
        "###2. Primes of the form $p=x^2 +Ny^2$ and the remainders $p \\, \\%\\ 4N$\n",
        " When checking for multiple different $N$'s of positive integers, (2, 3, 4, 5, 6, 7 and more) it can be seen that not all possible remainders of $p \\,\\%\\, 4N$  occur. First, we observed that all remainders are odd, and that all $N$'s appear to have $1$ as a possible remainder. Furthermore, the upper bound for the remainders is naturally $4N-1$ as going any higher wouldn't be possible. As for the number of remainders, we observed that as $N$ grows in size the possibilities of the number of remainders also grows, and hence in some cases there are more possible remainders with a larger $N$. However, this correlation is rather weak and you cannot necessarlily say that for a larger $N$ there are a larger amount of remainders. For example, when we try $N=9$ we get $1,13,25$ as our remainders. Looking at $N=80$ we get $16$ different remainders, a fair amount more than  for $N=9$.  But if we try $N=90$ we get a smaller amount of only 12 different remainders."
      ],
      "metadata": {
        "id": "95UHHTsA01jA"
      }
    },
    {
      "cell_type": "markdown",
      "source": [
        "###3. New Reciprocity Laws\n",
        "\n",
        "To create a counter for the number of remainders occuring we have a function that inputs our number $N$, and how many primes we want to check. So if we input `check_primes_with_Euler(3, 1000)` we are setting our $N$ to $3$ and looking at the first $1000$ primes. We start with a list that we call primes that succeed, and a dictionary to count the remainders. We check of our primes and if our `Euler_alt` function outputs true we add that `p` to the list. For each of our succeeding primes, we check their remainder and note which remainder we get. At the end we print the remainders and the number of times they occured."
      ],
      "metadata": {
        "id": "diwgzhjZL0iM"
      }
    },
    {
      "cell_type": "code",
      "source": [
        "def check_primes_with_Euler(N, number_of_primes_to_check):\n",
        "  primes_that_succeed = []\n",
        "  remainders = {} #could also be implemented with an array where we add onto an index\n",
        "  for p in primes[:number_of_primes_to_check]: #check a certain number of primes\n",
        "    if (Euler_alt(p, N)): # if primes satisfies condition add to list\n",
        "      primes_that_succeed.append(p)\n",
        "      \n",
        "  for p in primes_that_succeed: # for satisfactory primes, check remainder\n",
        "    r = p % (4 * N)\n",
        "    try:  #if remainder exists in dictionary, add to its count, otherwise set to 1\n",
        "      remainders[r] += 1\n",
        "    except:\n",
        "      remainders[r] = 1\n",
        "\n",
        "  print(remainders)\n",
        "check_primes_with_Euler(3, 1000)"
      ],
      "metadata": {
        "colab": {
          "base_uri": "https://localhost:8080/"
        },
        "id": "__9itVq46VAp",
        "outputId": "4ace9368-80a9-441e-bec2-2f2358e1365c"
      },
      "execution_count": 7,
      "outputs": [
        {
          "output_type": "stream",
          "name": "stdout",
          "text": [
            "{7: 249, 1: 241}\n"
          ]
        }
      ]
    },
    {
      "cell_type": "markdown",
      "source": [
        "\n",
        "\n",
        "Observation: The number of times each remainder appears is very consistent. For example, when checking the first $1000$ primes with $N = 3$, there is a remainder of $1$, $241$ times and a remainder of $7$, $249$ times.\n",
        "\n",
        "####It appears as if the following is true.\n",
        "\n",
        "When $N = 2$, $p$ can be written as $x^2 + 2y^2$ if and only if $p\\,\\%\\,8$ is congruent to 1 or 3.\n",
        "\n",
        "When $N = 3$, $p$ can be written as $x^2 + 3y^2$ if and only if $p\\,\\%\\,12$ is congruent to 1 or 7.\n",
        "\n",
        "When $N = 4$, $p$ can be written as $x^2 + 4y^2$ if and only if $p\\,\\%\\,16$ is congruent to 1, 5, 9 or 13.\n",
        "\n",
        "When $N = 5$, $p$ can be written as $x^2 + 5y^2$ if and only if $p\\,\\%\\,20$ is congruent to 1 or 9.\n",
        "\n",
        "When $N = 6$, $p$ can be written as $x^2 + 6y^2$ if and only if $p\\,\\%\\,24$ is congruent to 1 or 7.\n",
        "\n",
        "When $N = 7$, $p$ can be written as $x^2 + 7y^2$ if and only if $p\\,\\%\\,28$ is congruent to 1, 9, 11, 15, 23 or 25.\n",
        "\n",
        "When $N = 8$, $p$ can be written as $x^2 + 8y^2$ if and only if $p\\,\\%\\,32$ is congruent to 1, 9, 17 or 25.\n",
        "\n",
        "When $N = 9$, $p$ can be written as $x^2 + 9y^2$ if and only if $p\\,\\%\\,36$ is congruent to 1, 13 or 25."
      ],
      "metadata": {
        "id": "JQNrY2QH2zOw"
      }
    },
    {
      "cell_type": "markdown",
      "source": [
        "###4. Variants\n",
        "In this code we examine from the formula $p = ax^2 + by^2$ that from the $a$ and $b$ variables we want to determine which one classifies as the bigger and which one is the smaller. From there we can use the big number to reduce the number of iterations to then use the sqrt function to identify the remainders. "
      ],
      "metadata": {
        "id": "SZlaV0OyMiMp"
      }
    },
    {
      "cell_type": "code",
      "source": [
        "def Euler_a_b(p, a, b):\n",
        "  big, small = (a, b) if a >= b else (b, a) # set big to reduce iterations\n",
        "  y = sqrt(p // big) // 1\n",
        "  while(y > 0):\n",
        "    sqrt_of_remainder = sqrt((p - big*y**2) / small)\n",
        "    if(sqrt_of_remainder % 1 == 0 and sqrt_of_remainder > 0):\n",
        "      return True\n",
        "    y -= 1\n",
        "\n",
        "  return False\n",
        "\n",
        "Euler_a_b(11, 3, 3)\n"
      ],
      "metadata": {
        "colab": {
          "base_uri": "https://localhost:8080/"
        },
        "id": "HJx8oCucqAck",
        "outputId": "2329b279-d364-4dd4-90d5-e19b973ab7e3"
      },
      "execution_count": 8,
      "outputs": [
        {
          "output_type": "execute_result",
          "data": {
            "text/plain": [
              "False"
            ]
          },
          "metadata": {},
          "execution_count": 8
        }
      ]
    },
    {
      "cell_type": "code",
      "source": [
        "def check_primes_with_Euler_a_b(a, b, number_of_primes_to_check):\n",
        "  primes_that_succeed = []\n",
        "  remainders = {}\n",
        "  for p in primes[:number_of_primes_to_check]:\n",
        "    if (Euler_a_b(p, a, b)):\n",
        "      primes_that_succeed.append(p)\n",
        "      \n",
        "  for p in primes_that_succeed:\n",
        "    r = p % (4 * a * b)\n",
        "    try:\n",
        "      remainders[r] += 1\n",
        "    except:\n",
        "      remainders[r] = 1\n",
        "\n",
        "  print(remainders)\n",
        "check_primes_with_Euler_a_b(4, 5, 78000)"
      ],
      "metadata": {
        "colab": {
          "base_uri": "https://localhost:8080/"
        },
        "id": "tSQIx15ZyGKl",
        "outputId": "bf9e1ff4-0276-4797-da5b-b8a9f11ea405"
      },
      "execution_count": 9,
      "outputs": [
        {
          "output_type": "stream",
          "name": "stdout",
          "text": [
            "{41: 1223, 61: 1224, 29: 1222, 69: 1221, 1: 1229, 9: 1203, 21: 1204, 49: 1202}\n"
          ]
        }
      ]
    },
    {
      "cell_type": "markdown",
      "source": [
        "Observation: $a$ and $b$ cannot be multiples of one another. We can see this when considering that our function checks if $p = ax^2 + by^2$. WLOG, suppose $a = nb$ for some $n \\in Z_{>0}$. Then: \n",
        "\n",
        "$$p = ax^2 + by^2$$\n",
        "$$= bnx^2+by^2$$\n",
        "$$= b(nx^2+y^2)$$\n",
        "\n",
        "Therefore, $\\frac{p}{b}$ would equal the integer $nx^2+y^2$ which of course implies that $p$ is divisible by $b$ and therefore not a prime.\n",
        "\n",
        "####It seems that the following is true.\n",
        "\n",
        "When $a = 2$ and $b = 3$, $p$ can be written as $2x^2 + 3y^2$ if and only if $p\\,\\%\\,24$ is congruent to 5 or 11.\n",
        "\n",
        "When $a = 2$ and $b = 5$, $p$ can be written as $2x^2 + 5y^2$ if and only if $p\\,\\%\\,40$ is congruent to 7, 13, 23 or 37.\n",
        "\n",
        "When $a = 3$ and $b = 5$, $p$ can be written as $3x^2 + 5y^2$ if and only if $p\\,\\%\\,60$ is congruent to 17, 23, 47 or 53.\n",
        "\n",
        "When $a = 4$ and $b = 5$, $p$ can be written as $4x^2 + 5y^2$ if and only if $p\\,\\%\\,80$ is congruent to 1, 9, 21, 29, 41, 49, 61 or 69."
      ],
      "metadata": {
        "id": "_hsBDzYy9QkM"
      }
    },
    {
      "cell_type": "markdown",
      "source": [
        "#### A quick exploration into the primes written as a sum of two cubes in the form: $p=x^3+Ny^3$.\n",
        " We can adjust our existing code for the sum of squares as a sum of cubes."
      ],
      "metadata": {
        "id": "faY5fjV4wn7b"
      }
    },
    {
      "cell_type": "code",
      "source": [
        "from numpy import cbrt \n",
        "def Euler_alt_cube(p, N): # Same as Euler_alt but with cubes\n",
        "  y = cbrt(p // N) // 1 # set y to be an integer so that Ny^3 <= p\n",
        "  while(y > 0):\n",
        "    cbrt_of_remainder = cbrt(p - N*y**3) #find remainder of p - Ny^3 and cbrt it to find x\n",
        "    if(cbrt_of_remainder % 1 == 0 and cbrt_of_remainder > 0): # check that x is int and not 0\n",
        "      return True\n",
        "    y -= 1\n",
        "\n",
        "  return False\n",
        "Euler_alt_cube(223,3)"
      ],
      "metadata": {
        "colab": {
          "base_uri": "https://localhost:8080/"
        },
        "id": "xEbv4KRdwnmF",
        "outputId": "1c594443-be42-4aa8-f6eb-4d1534e232b0"
      },
      "execution_count": 21,
      "outputs": [
        {
          "output_type": "execute_result",
          "data": {
            "text/plain": [
              "False"
            ]
          },
          "metadata": {},
          "execution_count": 21
        }
      ]
    },
    {
      "cell_type": "code",
      "source": [
        "def check_primes_with_Euler_cube(N, number_of_primes_to_check): \n",
        "  primes_that_succeed = []\n",
        "  remainders = {} #could also be implemented with an array where we add onto an index\n",
        "  for p in primes[:number_of_primes_to_check]: #check a certain number of primes\n",
        "    if (Euler_alt_cube(p, N)): # if primes satisfies condition add to list\n",
        "      primes_that_succeed.append(p)\n",
        "      \n",
        "  for p in primes_that_succeed: # for satisfactory primes, check remainder\n",
        "    r = p % (4 * N)\n",
        "    try:  #if remainder exists in dictionary, add to its count, otherwise set to 1\n",
        "      remainders[r] += 1\n",
        "    except:\n",
        "      remainders[r] = 1\n",
        "\n",
        "  print(remainders)\n",
        "check_primes_with_Euler_cube(5,70000)"
      ],
      "metadata": {
        "colab": {
          "base_uri": "https://localhost:8080/"
        },
        "id": "ri-ltEtBxaRD",
        "outputId": "64eb8ece-5cb8-43f6-e090-d1b4dca563b3"
      },
      "execution_count": 20,
      "outputs": [
        {
          "output_type": "stream",
          "name": "stdout",
          "text": [
            "{13: 31, 1: 42, 19: 38, 3: 34, 7: 31, 17: 38, 11: 27, 9: 15}\n"
          ]
        }
      ]
    },
    {
      "cell_type": "markdown",
      "source": [
        "Observations: \n",
        "\n",
        "Right away after experimenting with `Euler_alt_cube` we notice that the primes that can be expressed as $x^3+Ny^3$ are much less common than the squared case. This makes sense as when we input different  positive integers they will be further apart since $x^3$ grows faster. Also the pattern that the count of each remainder is roughly the same breaks down, with some remainders being more common than others.\n",
        "#### With a bit of expermentation, it appears the following are true:\n",
        "\n",
        "\n",
        "\n"
      ],
      "metadata": {
        "id": "gFAazO_RxiVc"
      }
    },
    {
      "cell_type": "markdown",
      "source": [
        "When $N=3$, if $p$ can be written as $x^3+3y^3$ then $p \\,\\%\\, 12$ is congruent to $1,5,7,11$.\n",
        "\n",
        "When $N=4$, if $p$ can be written as $x^3+4y^3$ then $p \\,\\%\\, 16$ is congruent to $1,3,5,7,9,11,13,15$.\n",
        "\n",
        "When $N=5$, if $p$ can be written as $x^3+5y^3$ then $p \\,\\%\\ 20$ is congruent to $1,3,7,9,11,13,17,19$.\n"
      ],
      "metadata": {
        "id": "Y4qY3yx01OAe"
      }
    },
    {
      "cell_type": "markdown",
      "source": [
        "We can see that for the remainders of $4N$ these laws are not if and only if statements. The reciprocity laws for $4N$ lose their biconditionality. For example if$(N=3)$, $223 \\%\\ 12$ is congruent to $7$, but $223$ cannot be written in the form $x^3+3y^3$ according to our code. Also notice that all possible odd remainders occur when $N=4$ so the reciprocity law is quite redundant."
      ],
      "metadata": {
        "id": "KisWjQ_r2rPc"
      }
    },
    {
      "cell_type": "markdown",
      "source": [
        "###5. Conclusion\n",
        "Referring back to the modern perspective of Fermat’s “Christmas Theorem”, we were able to generate different codes that represent the reciprocity law. While examining the theorem of reciprocity law, which is, a prime number $p$ can be expressed as $x^2 + Ny^2$ if and only if $p \\, \\%\\ M$ belongs to a certain finite set, we were able to show different codes to generate more reciprocity laws. As we look back onto these new codes that were created, we were able to examine the prime numbers and the remainders within the formula $x^2 +Ny^2$. Within these codes we then found how different methods, such as using the sqrt, can make a code more efficient with what it is we are wanting to find, which is what we can take comprehend from the above construct codes.   \n"
      ],
      "metadata": {
        "id": "-hWi_NXyu0l3"
      }
    }
  ]
}