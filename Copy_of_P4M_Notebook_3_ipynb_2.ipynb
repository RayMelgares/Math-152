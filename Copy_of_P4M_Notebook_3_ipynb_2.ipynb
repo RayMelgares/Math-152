{
  "nbformat": 4,
  "nbformat_minor": 0,
  "metadata": {
    "kernelspec": {
      "display_name": "Python 3",
      "language": "python",
      "name": "python3"
    },
    "language_info": {
      "codemirror_mode": {
        "name": "ipython",
        "version": 3
      },
      "file_extension": ".py",
      "mimetype": "text/x-python",
      "name": "python",
      "nbconvert_exporter": "python",
      "pygments_lexer": "ipython3",
      "version": "3.6.7"
    },
    "colab": {
      "provenance": [],
      "toc_visible": true,
      "include_colab_link": true
    }
  },
  "cells": [
    {
      "cell_type": "markdown",
      "metadata": {
        "id": "view-in-github",
        "colab_type": "text"
      },
      "source": [
        "<a href=\"https://colab.research.google.com/github/RayMelgares/Math-152/blob/main/Copy_of_P4M_Notebook_3_ipynb_2.ipynb\" target=\"_parent\"><img src=\"https://colab.research.google.com/assets/colab-badge.svg\" alt=\"Open In Colab\"/></a>"
      ]
    },
    {
      "cell_type": "markdown",
      "metadata": {
        "id": "6wh71ZCco1Nc"
      },
      "source": [
        "# Part 3:  Lists\n",
        "\n",
        "Python provides a powerful set of tools to create and manipulate lists of data. In this part, we take a deep dive into the Python list type.  This includes mutability, list methods, and slicing.\n",
        "\n",
        "\n",
        "Then we use Python lists to implement and optimize the Sieve of Eratosthenes, which will produce a list of all prime numbers up to a big number (like 10 million) in a snap. Along the way, we introduce some Python techniques for data analysis and visualization."
      ]
    },
    {
      "cell_type": "markdown",
      "metadata": {
        "id": "V1d8-qavo1Ng"
      },
      "source": [
        "## Primality testing"
      ]
    },
    {
      "cell_type": "markdown",
      "metadata": {
        "id": "o8GcrfMBo1Ng"
      },
      "source": [
        "Before diving into lists, we recall the **brute force** primality test that we created in the last lesson.  To test whether a number `n` is prime, we can simply check for factors.  This yields the following primality test."
      ]
    },
    {
      "cell_type": "code",
      "metadata": {
        "id": "PmShUfrWo1Nh"
      },
      "source": [
        "def is_prime(n):\n",
        "    '''\n",
        "    Checks whether the argument n is a prime number.\n",
        "    Uses a brute force search for factors between 1 and n.\n",
        "    '''\n",
        "    for j in range(2,n):  # the range of numbers 2,3,...,n-1.\n",
        "        if n%j == 0:  # is n divisible by j?\n",
        "            print(\"{} is a factor of {}.\".format(j,n))\n",
        "            return False\n",
        "    return True"
      ],
      "execution_count": 38,
      "outputs": []
    },
    {
      "cell_type": "markdown",
      "metadata": {
        "id": "ps6dGQ_lo1Nh"
      },
      "source": [
        "We can also implement this test with a **while loop** instead of a for loop.  This doesn't make much of a difference, in Python 3.x.  (In Python 2.x, this would save memory)."
      ]
    },
    {
      "cell_type": "code",
      "metadata": {
        "id": "uyU1DxPjo1Nh"
      },
      "source": [
        "def is_prime(n):\n",
        "    '''\n",
        "    Checks whether the argument n is a prime number.\n",
        "    Uses a brute force search for factors between 1 and n.\n",
        "    '''\n",
        "    j = 2\n",
        "    while j < n:  # j will proceed through the list of numbers 2,3,...,n-1.\n",
        "        if n%j == 0:  # is n divisible by j?\n",
        "            print(\"{} is a factor of {}.\".format(j,n))\n",
        "            return False\n",
        "        j = j + 1  # There's a Python abbreviation for this:  j += 1.\n",
        "    return True"
      ],
      "execution_count": 39,
      "outputs": []
    },
    {
      "cell_type": "code",
      "metadata": {
        "id": "n8VNDo3Ro1Nh",
        "colab": {
          "base_uri": "https://localhost:8080/"
        },
        "outputId": "4f0e261a-54fd-4e77-9a27-dba0695e82f5"
      },
      "source": [
        "is_prime(10000)"
      ],
      "execution_count": 40,
      "outputs": [
        {
          "output_type": "stream",
          "name": "stdout",
          "text": [
            "2 is a factor of 10000.\n"
          ]
        },
        {
          "output_type": "execute_result",
          "data": {
            "text/plain": [
              "False"
            ]
          },
          "metadata": {},
          "execution_count": 40
        }
      ]
    },
    {
      "cell_type": "code",
      "metadata": {
        "id": "EwsTzmDJo1Nh",
        "colab": {
          "base_uri": "https://localhost:8080/"
        },
        "outputId": "9cb00087-d29a-460a-86c0-34d8346e14be"
      },
      "source": [
        "is_prime(101)"
      ],
      "execution_count": 41,
      "outputs": [
        {
          "output_type": "execute_result",
          "data": {
            "text/plain": [
              "True"
            ]
          },
          "metadata": {},
          "execution_count": 41
        }
      ]
    },
    {
      "cell_type": "markdown",
      "metadata": {
        "id": "LMiisxZko1Ni"
      },
      "source": [
        "If $n$ is a prime number, then the `is_prime(n)` function will iterate through all the numbers between $2$ and $n-1$.  But this is overkill!  Indeed, if $n$ is not prime, it will have a factor between $2$ and the square root of $n$.  This is because factors come in pairs:  if $ab = n$, then one of the factors, $a$ or $b$, must be less than or equal to the square root of $n$.  So it suffices to search for factors up to (and including) the square root of $n$."
      ]
    },
    {
      "cell_type": "markdown",
      "metadata": {
        "id": "QlS5mEtko1Ni"
      },
      "source": [
        "Even though we've made our own sqrt function, we load a fast one from the [standard math package](https://docs.python.org/3/library/math.html).  You can use this for square roots, trig functions, logs, and more.  Click the previous link for documentation.  This package doesn't load automatically when you start Python, so you have to load it with a little Python code."
      ]
    },
    {
      "cell_type": "code",
      "metadata": {
        "id": "StYgB3R2o1Ni"
      },
      "source": [
        "from math import sqrt"
      ],
      "execution_count": 42,
      "outputs": []
    },
    {
      "cell_type": "markdown",
      "metadata": {
        "id": "g5qCsftto1Ni"
      },
      "source": [
        "This command **imports** the square root function (`sqrt`) from the **package** called `math`.  Now you can find square roots."
      ]
    },
    {
      "cell_type": "code",
      "metadata": {
        "id": "yky_CASQo1Ni",
        "colab": {
          "base_uri": "https://localhost:8080/"
        },
        "outputId": "462185e7-22f0-4c28-b7dd-46448db638c1"
      },
      "source": [
        "sqrt(1000)"
      ],
      "execution_count": 43,
      "outputs": [
        {
          "output_type": "execute_result",
          "data": {
            "text/plain": [
              "31.622776601683793"
            ]
          },
          "metadata": {},
          "execution_count": 43
        }
      ]
    },
    {
      "cell_type": "markdown",
      "metadata": {
        "id": "G6KIJi-Go1Ni"
      },
      "source": [
        "There are a few different ways to import functions from packages.  The above syntax is a good starting point, but sometimes problems can arise if different packages have functions with the same name.  Here are a few methods of importing the `sqrt` function and how they differ.\n",
        "\n",
        "`from math import sqrt`:  After this command, `sqrt` will refer to the function from the `math` package (overriding any previous definition).\n",
        "\n",
        "`import math`:  After this command, all the functions from the `math` package will be imported.  But to call `sqrt`, you would type a command like `math.sqrt(1000)`.  This is convenient if there are potential conflicts with other packages.\n",
        "\n",
        "`from math import *`:  After this command, all the functions from the `math` package will be imported.  To call them, you can access them directly with a command like `sqrt(1000)`.  This can easily cause conflicts with other packages, since packages can have hundreds of functions in them!\n",
        "\n",
        "`import math as mth`:  Some people like abbreviations.  This imports all the functions from the `math` package.  To call one, you type a command like `mth.sqrt(1000)`. "
      ]
    },
    {
      "cell_type": "code",
      "metadata": {
        "id": "DkMBWCH2o1Nj"
      },
      "source": [
        "import math"
      ],
      "execution_count": 44,
      "outputs": []
    },
    {
      "cell_type": "code",
      "metadata": {
        "id": "JCOkoqBJo1Nj",
        "colab": {
          "base_uri": "https://localhost:8080/"
        },
        "outputId": "f8aca277-4251-4622-e565-06d4f8fe4ec6"
      },
      "source": [
        "math.sqrt(1000)"
      ],
      "execution_count": 45,
      "outputs": [
        {
          "output_type": "execute_result",
          "data": {
            "text/plain": [
              "31.622776601683793"
            ]
          },
          "metadata": {},
          "execution_count": 45
        }
      ]
    },
    {
      "cell_type": "code",
      "metadata": {
        "id": "1wHHxCBvo1Nj",
        "colab": {
          "base_uri": "https://localhost:8080/"
        },
        "outputId": "645675b6-0586-41b2-d861-77dacecb68e5"
      },
      "source": [
        "math.factorial(10)  # This will cause an error!"
      ],
      "execution_count": 46,
      "outputs": [
        {
          "output_type": "execute_result",
          "data": {
            "text/plain": [
              "3628800"
            ]
          },
          "metadata": {},
          "execution_count": 46
        }
      ]
    },
    {
      "cell_type": "code",
      "metadata": {
        "id": "q3_f65bdo1Nj",
        "colab": {
          "base_uri": "https://localhost:8080/"
        },
        "outputId": "8abffe2e-de04-45e7-ef23-31be13157552"
      },
      "source": [
        "math.factorial(10)  # This is ok, since the math package comes with a function called factorial."
      ],
      "execution_count": 47,
      "outputs": [
        {
          "output_type": "execute_result",
          "data": {
            "text/plain": [
              "3628800"
            ]
          },
          "metadata": {},
          "execution_count": 47
        }
      ]
    },
    {
      "cell_type": "markdown",
      "metadata": {
        "id": "PercB7IRo1Nj"
      },
      "source": [
        "Now let's improve our `is_prime(n)` function by searching for factors only up to the square root of the number `n`.  We consider two options."
      ]
    },
    {
      "cell_type": "code",
      "metadata": {
        "id": "1jFrsNtvo1Nj"
      },
      "source": [
        "def is_prime_slow(n):\n",
        "    '''\n",
        "    Checks whether the argument n is a prime number.\n",
        "    Uses a brute force search for factors between 1 and n.\n",
        "    '''\n",
        "    j = 2\n",
        "    while j <= sqrt(n):  # j will proceed through the list of numbers 2,3,... up to sqrt(n).\n",
        "        if n%j == 0:  # is n divisible by j?\n",
        "            print(\"{} is a factor of {}.\".format(j,n))\n",
        "            return False\n",
        "        j = j + 1  # There's a Python abbreviation for this:  j += 1.\n",
        "    return True"
      ],
      "execution_count": 48,
      "outputs": []
    },
    {
      "cell_type": "code",
      "metadata": {
        "id": "kivEWwP8o1Nj"
      },
      "source": [
        "def is_prime_fast(n):\n",
        "    '''\n",
        "    Checks whether the argument n is a prime number.\n",
        "    Uses a brute force search for factors between 1 and n.\n",
        "    '''\n",
        "    j = 2\n",
        "    root_n = sqrt(n)\n",
        "    while j <= root_n:  # j will proceed through the list of numbers 2,3,... up to sqrt(n).\n",
        "        if n%j == 0:  # is n divisible by j?\n",
        "            print(\"{} is a factor of {}.\".format(j,n))\n",
        "            return False\n",
        "        j = j + 1  # There's a Python abbreviation for this:  j += 1.\n",
        "    return True"
      ],
      "execution_count": 70,
      "outputs": []
    },
    {
      "cell_type": "code",
      "metadata": {
        "id": "MYRn_kwAo1Nk",
        "colab": {
          "base_uri": "https://localhost:8080/"
        },
        "outputId": "c6f629cf-0e00-45c4-d02a-40e4f0dd452d"
      },
      "source": [
        "is_prime_fast(1000003)"
      ],
      "execution_count": 71,
      "outputs": [
        {
          "output_type": "execute_result",
          "data": {
            "text/plain": [
              "True"
            ]
          },
          "metadata": {},
          "execution_count": 71
        }
      ]
    },
    {
      "cell_type": "code",
      "metadata": {
        "id": "CycTNs3Yo1Nk",
        "colab": {
          "base_uri": "https://localhost:8080/"
        },
        "outputId": "4e9e66d3-ebba-493e-a54e-282f94f32209"
      },
      "source": [
        "is_prime_slow(1000003)"
      ],
      "execution_count": 51,
      "outputs": [
        {
          "output_type": "execute_result",
          "data": {
            "text/plain": [
              "True"
            ]
          },
          "metadata": {},
          "execution_count": 51
        }
      ]
    },
    {
      "cell_type": "markdown",
      "metadata": {
        "id": "a2_C-DRco1Nk"
      },
      "source": [
        "I've chosen function names with \"fast\" and \"slow\" in them.  But what makes them faster or slower?  Are they faster than the original?  And how can we tell?\n",
        "\n",
        "Python comes with a great set of tools for these questions.  The simplest (for the user) are the time utilities.  By placing the **magic** `%timeit` before a command, Python does something like the following:\n",
        "\n",
        "1.  Python makes a little container in your computer devoted to the computations, to avoid interference from other running programs if possible.\n",
        "2.  Python executes the command lots and lots of times.\n",
        "3.  Python averages the amount of time taken for each execution.  \n",
        "\n",
        "Give it a try below, to compare the speed of the functions `is_prime` (the original) with the new `is_prime_fast` and `is_prime_slow`.  Note that the `%timeit` commands might take a little while."
      ]
    },
    {
      "cell_type": "markdown",
      "metadata": {
        "id": "gBRDJBA3a2U9"
      },
      "source": [
        "*Warning!*  Before running the is_prime_fast and is_prime_slow functions within %timeit, please *remove* all print statements from the functions and recompile them.  Otherwise, you might end up printing a million things in your browser window, possibly crashing your computer."
      ]
    },
    {
      "cell_type": "code",
      "metadata": {
        "id": "9362eqX8o1Nk"
      },
      "source": [
        "%timeit is_prime_fast(2**1000000000)"
      ],
      "execution_count": null,
      "outputs": []
    },
    {
      "cell_type": "code",
      "metadata": {
        "id": "GlQqgs6Fo1Nk",
        "colab": {
          "base_uri": "https://localhost:8080/"
        },
        "outputId": "b912da19-ce1f-4ec3-cb1b-9a865f4fafb9"
      },
      "source": [
        "%timeit is_prime_slow(1000003)"
      ],
      "execution_count": 53,
      "outputs": [
        {
          "output_type": "stream",
          "name": "stdout",
          "text": [
            "224 µs ± 18.7 µs per loop (mean ± std. dev. of 7 runs, 1000 loops each)\n"
          ]
        }
      ]
    },
    {
      "cell_type": "code",
      "metadata": {
        "id": "MMoNyEsOo1Nk",
        "colab": {
          "base_uri": "https://localhost:8080/"
        },
        "outputId": "9f94f5e3-72e5-4196-9c30-f7a06a11ca66"
      },
      "source": [
        "%timeit is_prime(1000003)"
      ],
      "execution_count": 54,
      "outputs": [
        {
          "output_type": "stream",
          "name": "stdout",
          "text": [
            "292 ms ± 23 ms per loop (mean ± std. dev. of 7 runs, 1 loop each)\n"
          ]
        }
      ]
    },
    {
      "cell_type": "markdown",
      "metadata": {
        "id": "uR7IkJbEo1Nk"
      },
      "source": [
        "Time is measured in seconds, milliseconds (1 ms = 1/1000 second), microseconds (1 µs = 1/1,000,000 second), and nanoseconds (1 ns = 1/1,000,000,000 second).  So it might appear at first that `is_prime` is the fastest, or about the same speed.  But check the units!  The other two approaches are about a thousand times faster!  How much faster were they on your computer?"
      ]
    },
    {
      "cell_type": "code",
      "metadata": {
        "id": "hPOknCuUo1Nk",
        "colab": {
          "base_uri": "https://localhost:8080/"
        },
        "outputId": "dba06aa5-fc8e-444f-cb31-b85e2180f94b"
      },
      "source": [
        "is_prime_fast(2**1000)  # Don't try this with `is_prime` unless you want to wait for a long time!"
      ],
      "execution_count": 72,
      "outputs": [
        {
          "output_type": "stream",
          "name": "stdout",
          "text": [
            "2 is a factor of 10715086071862673209484250490600018105614048117055336074437503883703510511249361224931983788156958581275946729175531468251871452856923140435984577574698574803934567774824230985421074605062371141877954182153046474983581941267398767559165543946077062914571196477686542167660429831652624386837205668069376.\n"
          ]
        },
        {
          "output_type": "execute_result",
          "data": {
            "text/plain": [
              "False"
            ]
          },
          "metadata": {},
          "execution_count": 72
        }
      ]
    },
    {
      "cell_type": "markdown",
      "metadata": {
        "id": "YtkronFFo1Nl"
      },
      "source": [
        "Indeed, the `is_prime_fast(n)` function will go through a loop of length about `sqrt(n)` when `n` is prime.  But `is_prime(n)` will go through a loop of length about `n`.  Since `sqrt(n)` is much less than `n`, especially when `n` is large, the `is_prime_fast(n)` function is much faster.\n",
        "\n",
        "Between `is_prime_fast` and `is_prime_slow`, the difference is that the `fast` version **precomputes** the square root `sqrt(n)` before going through the loop, where the `slow` version repeats the `sqrt(n)` every time the loop is repeated.  Indeed, writing `while j <= sqrt(n):` suggests that Python might execute `sqrt(n)` every time to check.  This *might* lead to Python computing the same square root a million times... unnecessarily!  \n",
        "\n",
        "A basic principle of programming is to **avoid repetition**.  If you have the memory space, just compute once and store the result.  It will probably be faster to pull the result out of memory than to compute it again.\n",
        "\n",
        "Python does tend to be pretty smart, however.  It's possible that Python **is precomputing** `sqrt(n)` even in the slow loop, just because it's clever enough to tell in advance that the same thing is being computed over and over again.  This depends on your Python version and takes place behind the scenes.  If you want to figure it out, there's a whole set of tools (for advanced programmers) like the [disassembler](https://docs.python.org/3/library/dis.html) to figure out what Python is doing.\n",
        "\n",
        "If you feel like looking under the hood, the next few lines will display the `is_prime_fast` and `is_prime_slow` functions to bytecode.  Can you see how the `sqrt(n)` computation is carried out differently?"
      ]
    },
    {
      "cell_type": "code",
      "metadata": {
        "id": "hislzK3Lo1Nl"
      },
      "source": [
        "from dis import dis"
      ],
      "execution_count": 55,
      "outputs": []
    },
    {
      "cell_type": "code",
      "metadata": {
        "id": "wQX1FSObo1Nl",
        "colab": {
          "base_uri": "https://localhost:8080/"
        },
        "outputId": "6e446fd5-9057-4901-a055-f27a79d3e947"
      },
      "source": [
        "dis(is_prime_fast)"
      ],
      "execution_count": 56,
      "outputs": [
        {
          "output_type": "stream",
          "name": "stdout",
          "text": [
            "  6           0 LOAD_CONST               1 (2)\n",
            "              2 STORE_FAST               1 (j)\n",
            "\n",
            "  7           4 LOAD_GLOBAL              0 (sqrt)\n",
            "              6 LOAD_FAST                0 (n)\n",
            "              8 CALL_FUNCTION            1\n",
            "             10 STORE_FAST               2 (root_n)\n",
            "\n",
            "  8     >>   12 LOAD_FAST                1 (j)\n",
            "             14 LOAD_FAST                2 (root_n)\n",
            "             16 COMPARE_OP               1 (<=)\n",
            "             18 POP_JUMP_IF_FALSE       62\n",
            "\n",
            "  9          20 LOAD_FAST                0 (n)\n",
            "             22 LOAD_FAST                1 (j)\n",
            "             24 BINARY_MODULO\n",
            "             26 LOAD_CONST               2 (0)\n",
            "             28 COMPARE_OP               2 (==)\n",
            "             30 POP_JUMP_IF_FALSE       52\n",
            "\n",
            " 10          32 LOAD_GLOBAL              1 (print)\n",
            "             34 LOAD_CONST               3 ('{} is a factor of {}.')\n",
            "             36 LOAD_METHOD              2 (format)\n",
            "             38 LOAD_FAST                1 (j)\n",
            "             40 LOAD_FAST                0 (n)\n",
            "             42 CALL_METHOD              2\n",
            "             44 CALL_FUNCTION            1\n",
            "             46 POP_TOP\n",
            "\n",
            " 11          48 LOAD_CONST               4 (False)\n",
            "             50 RETURN_VALUE\n",
            "\n",
            " 12     >>   52 LOAD_FAST                1 (j)\n",
            "             54 LOAD_CONST               5 (1)\n",
            "             56 BINARY_ADD\n",
            "             58 STORE_FAST               1 (j)\n",
            "             60 JUMP_ABSOLUTE           12\n",
            "\n",
            " 13     >>   62 LOAD_CONST               6 (True)\n",
            "             64 RETURN_VALUE\n"
          ]
        }
      ]
    },
    {
      "cell_type": "code",
      "metadata": {
        "id": "M_T0805ko1Nl",
        "colab": {
          "base_uri": "https://localhost:8080/"
        },
        "outputId": "435e6eff-d447-4e0b-ae5e-34f47218af19"
      },
      "source": [
        "dis(is_prime_slow)"
      ],
      "execution_count": 58,
      "outputs": [
        {
          "output_type": "stream",
          "name": "stdout",
          "text": [
            "  6           0 LOAD_CONST               1 (2)\n",
            "              2 STORE_FAST               1 (j)\n",
            "\n",
            "  7     >>    4 LOAD_FAST                1 (j)\n",
            "              6 LOAD_GLOBAL              0 (sqrt)\n",
            "              8 LOAD_FAST                0 (n)\n",
            "             10 CALL_FUNCTION            1\n",
            "             12 COMPARE_OP               1 (<=)\n",
            "             14 POP_JUMP_IF_FALSE       58\n",
            "\n",
            "  8          16 LOAD_FAST                0 (n)\n",
            "             18 LOAD_FAST                1 (j)\n",
            "             20 BINARY_MODULO\n",
            "             22 LOAD_CONST               2 (0)\n",
            "             24 COMPARE_OP               2 (==)\n",
            "             26 POP_JUMP_IF_FALSE       48\n",
            "\n",
            "  9          28 LOAD_GLOBAL              1 (print)\n",
            "             30 LOAD_CONST               3 ('{} is a factor of {}.')\n",
            "             32 LOAD_METHOD              2 (format)\n",
            "             34 LOAD_FAST                1 (j)\n",
            "             36 LOAD_FAST                0 (n)\n",
            "             38 CALL_METHOD              2\n",
            "             40 CALL_FUNCTION            1\n",
            "             42 POP_TOP\n",
            "\n",
            " 10          44 LOAD_CONST               4 (False)\n",
            "             46 RETURN_VALUE\n",
            "\n",
            " 11     >>   48 LOAD_FAST                1 (j)\n",
            "             50 LOAD_CONST               5 (1)\n",
            "             52 BINARY_ADD\n",
            "             54 STORE_FAST               1 (j)\n",
            "             56 JUMP_ABSOLUTE            4\n",
            "\n",
            " 12     >>   58 LOAD_CONST               6 (True)\n",
            "             60 RETURN_VALUE\n"
          ]
        }
      ]
    },
    {
      "cell_type": "code",
      "metadata": {
        "id": "1mendW3Uo1Nl",
        "colab": {
          "base_uri": "https://localhost:8080/"
        },
        "outputId": "cfaad76d-9a9e-4374-a6dd-08f9468ab64b"
      },
      "source": [
        "is_prime_fast(10**14 + 37) # This might get a bit of delay."
      ],
      "execution_count": 73,
      "outputs": [
        {
          "output_type": "stream",
          "name": "stdout",
          "text": [
            "1858741 is a factor of 100000000000037.\n"
          ]
        },
        {
          "output_type": "execute_result",
          "data": {
            "text/plain": [
              "False"
            ]
          },
          "metadata": {},
          "execution_count": 73
        }
      ]
    },
    {
      "cell_type": "markdown",
      "metadata": {
        "id": "DUEOKxtoo1Nm"
      },
      "source": [
        "Now we have a function `is_prime_fast(n)` that is speedy for numbers `n` in the trillions!  You'll probably start to hit a delay around $10^{15}$ or so, and the delays will become intolerable if you add too many more digits.  In a future lesson, we will see a different primality test that will be essentially instant even for numbers around $10^{1000}$!  "
      ]
    },
    {
      "cell_type": "markdown",
      "metadata": {
        "id": "NCv3bAIco1Nm"
      },
      "source": [
        "### Exercises\n",
        "\n",
        "1.  To check whether a number `n` is prime, you can first check whether `n` is even, and then check whether `n` has any odd factors.  Change the `is_prime_fast` function by implementing this improvement.  How much of a speedup did you get?\n",
        "\n",
        "2.  Use the `%timeit` tool to study the speed of `is_prime_fast` for various sizes of `n`.  Using about 10 data points, relate the size of `n` to the time taken by the `is_prime_fast` function.\n",
        "\n",
        "3.  Write a function `is_square(n)` to test whether a given integer `n` is a perfect square (like 0, 1, 4, 9, 16, etc.).  How fast can you make it run?  Describe the different approaches you try and which are fastest."
      ]
    },
    {
      "cell_type": "markdown",
      "source": [
        "###Solutions\n",
        "\n",
        "1. See code below. The improved code had a time of about 260 ns and the oringinal code had a time of about 16.1 microseconds so about 50-60 times faster!\n",
        "2. There doesn't seem to be a correlation at all with the size of the prime number and the `%timeit` which is a bit strange.\n",
        "3. See code below. I tried two approaches, one is a simple method which computes the square root using the `sqrt` function and checks if its an integer. The second uses a brute force approach and squares one up to n while its less than n going through all possiblites. The simpler code was much faster than the brute force code."
      ],
      "metadata": {
        "id": "ngT9lwJqeaUd"
      }
    },
    {
      "cell_type": "code",
      "source": [
        "from math import sqrt # exercise 1\n",
        "def is_prime_fast2(n):\n",
        "    j = 2\n",
        "    root_n = sqrt(n)\n",
        "    if j%2==0:\n",
        "      return False\n",
        "    while j <= root_n: \n",
        "        if n%j == 0:\n",
        "          print(\"{} is a factor of {}.\".format(j,n))\n",
        "          return False\n",
        "        j = j + 2 \n",
        "    return True"
      ],
      "metadata": {
        "id": "_l5KpcjtelDb"
      },
      "execution_count": 74,
      "outputs": []
    },
    {
      "cell_type": "code",
      "source": [
        "def is_prime_fast(n):\n",
        "    '''\n",
        "    Checks whether the argument n is a prime number.\n",
        "    Uses a brute force search for factors between 1 and n.\n",
        "    '''\n",
        "    j = 2\n",
        "    root_n = sqrt(n)\n",
        "    while j <= root_n:  # j will proceed through the list of numbers 2,3,... up to sqrt(n).\n",
        "        if n%j == 0:  # is n divisible by j?\n",
        "            print(\"{} is a factor of {}.\".format(j,n))\n",
        "            return False\n",
        "        j = j + 1  # There's a Python abbreviation for this:  j += 1.\n",
        "    return True"
      ],
      "metadata": {
        "id": "opekAyGRNMjU"
      },
      "execution_count": 76,
      "outputs": []
    },
    {
      "cell_type": "code",
      "source": [
        "%timeit is_prime_fast2(10007) # exercise 1\n"
      ],
      "metadata": {
        "colab": {
          "base_uri": "https://localhost:8080/"
        },
        "id": "LVO-9lP5KIY_",
        "outputId": "9aa4699c-1a3c-445a-ff99-92c9f5b70fe9"
      },
      "execution_count": 82,
      "outputs": [
        {
          "output_type": "stream",
          "name": "stdout",
          "text": [
            "259 ns ± 44.7 ns per loop (mean ± std. dev. of 7 runs, 1000000 loops each)\n"
          ]
        }
      ]
    },
    {
      "cell_type": "code",
      "source": [
        "%timeit is_prime_fast(10007) "
      ],
      "metadata": {
        "colab": {
          "base_uri": "https://localhost:8080/"
        },
        "id": "ZDChS5U_vSOj",
        "outputId": "bc0cdd3a-0607-4c23-ace6-dd7fbd09c534"
      },
      "execution_count": 81,
      "outputs": [
        {
          "output_type": "stream",
          "name": "stdout",
          "text": [
            "16.1 µs ± 3.69 µs per loop (mean ± std. dev. of 7 runs, 100000 loops each)\n"
          ]
        }
      ]
    },
    {
      "cell_type": "code",
      "source": [
        "%timeit is_prime_fast2(1000000003) # exercise 2\n",
        "%timeit is_prime_fast2(223)\n",
        "%timeit is_prime_fast2(70007)\n",
        "%timeit is_prime_fast2(8683317618811886495518194401279999999)\n",
        "%timeit is_prime_fast2(9007199254740991)\n",
        "%timeit is_prime_fast2(576460752303423487)\n",
        "%timeit is_prime_fast2(14693679385278593849609206715278070972733319459651094018859396328480215743184089660644531)\n",
        "%timeit is_prime_fast2(15)\n",
        "%timeit is_prime_fast2(123)\n",
        "%timeit is_prime_fast2(23467)"
      ],
      "metadata": {
        "id": "HkhRKg1xhA0H",
        "colab": {
          "base_uri": "https://localhost:8080/"
        },
        "outputId": "9e2fc0d6-b1be-4ebf-906f-a4845965f782"
      },
      "execution_count": 83,
      "outputs": [
        {
          "output_type": "stream",
          "name": "stdout",
          "text": [
            "210 ns ± 6.51 ns per loop (mean ± std. dev. of 7 runs, 1000000 loops each)\n",
            "273 ns ± 113 ns per loop (mean ± std. dev. of 7 runs, 1000000 loops each)\n",
            "209 ns ± 7.11 ns per loop (mean ± std. dev. of 7 runs, 1000000 loops each)\n",
            "399 ns ± 134 ns per loop (mean ± std. dev. of 7 runs, 1000000 loops each)\n",
            "263 ns ± 37.2 ns per loop (mean ± std. dev. of 7 runs, 1000000 loops each)\n",
            "252 ns ± 6.72 ns per loop (mean ± std. dev. of 7 runs, 1000000 loops each)\n",
            "249 ns ± 3.83 ns per loop (mean ± std. dev. of 7 runs, 1000000 loops each)\n",
            "209 ns ± 6.31 ns per loop (mean ± std. dev. of 7 runs, 1000000 loops each)\n",
            "207 ns ± 4.15 ns per loop (mean ± std. dev. of 7 runs, 1000000 loops each)\n",
            "332 ns ± 114 ns per loop (mean ± std. dev. of 7 runs, 1000000 loops each)\n"
          ]
        }
      ]
    },
    {
      "cell_type": "code",
      "source": [
        "from math import sqrt # exercise 3\n",
        "def is_square(n):\n",
        "  s=sqrt(n)\n",
        "  if s%1==0:\n",
        "    return True\n",
        "  else:\n",
        "    return False"
      ],
      "metadata": {
        "id": "_HCqK_QKrKQG"
      },
      "execution_count": 84,
      "outputs": []
    },
    {
      "cell_type": "code",
      "source": [
        "def is_square_brute(n): # exercise 3\n",
        "  x=1\n",
        "  while x**2 <n:\n",
        "    if x**2==n:\n",
        "      return True\n",
        "    else:\n",
        "      x+=1\n",
        "  \n"
      ],
      "metadata": {
        "id": "zb4eGnTLr2wf"
      },
      "execution_count": 85,
      "outputs": []
    },
    {
      "cell_type": "code",
      "source": [
        "is_square(10001)"
      ],
      "metadata": {
        "colab": {
          "base_uri": "https://localhost:8080/"
        },
        "id": "l4yPmCtbroYA",
        "outputId": "027f1013-7a12-438d-8e8c-9195e3a2025a"
      },
      "execution_count": 86,
      "outputs": [
        {
          "output_type": "execute_result",
          "data": {
            "text/plain": [
              "False"
            ]
          },
          "metadata": {},
          "execution_count": 86
        }
      ]
    },
    {
      "cell_type": "code",
      "source": [
        "%timeit is_square(10001)"
      ],
      "metadata": {
        "id": "E9dcevLiryc_",
        "colab": {
          "base_uri": "https://localhost:8080/"
        },
        "outputId": "f9cba0ee-c432-4838-d1c4-a4438d144df2"
      },
      "execution_count": 87,
      "outputs": [
        {
          "output_type": "stream",
          "name": "stdout",
          "text": [
            "271 ns ± 8.64 ns per loop (mean ± std. dev. of 7 runs, 1000000 loops each)\n"
          ]
        }
      ]
    },
    {
      "cell_type": "code",
      "source": [
        "%timeit is_square_brute(10001)"
      ],
      "metadata": {
        "id": "UR3uwXz4s7fp",
        "colab": {
          "base_uri": "https://localhost:8080/"
        },
        "outputId": "36aaaf89-af2d-4be7-b364-6b82c64d8704"
      },
      "execution_count": 88,
      "outputs": [
        {
          "output_type": "stream",
          "name": "stdout",
          "text": [
            "62 µs ± 17.4 µs per loop (mean ± std. dev. of 7 runs, 10000 loops each)\n"
          ]
        }
      ]
    },
    {
      "cell_type": "markdown",
      "metadata": {
        "id": "J_Xx10hBo1Nm"
      },
      "source": [
        "## List manipulation"
      ]
    },
    {
      "cell_type": "markdown",
      "metadata": {
        "id": "7Wd7YSnxo1Nm"
      },
      "source": [
        "We have already (briefly) encountered the `list` type in Python.  Recall that the `range` command produces a range, which can be used to produce a list.  For example, `list(range(10))` produces the list `[0,1,2,3,4,5,6,7,8,9]`.  You can also create your own list by a writing out its terms, e.g. `L = [4,7,10]`.\n",
        "\n",
        "Here we work with lists, and a very Pythonic approach to list manipulation.  With practice, this can be a powerful tool to write fast algorithms, exploiting the hard-wired capability of your computer to shift and slice large chunks of data.  Our eventual application will be to implement the Sieve of Eratosthenes, producing a long list of prime numbers (without using any `is_prime` test along the way)."
      ]
    },
    {
      "cell_type": "markdown",
      "metadata": {
        "id": "60AyLZgto1Nm"
      },
      "source": [
        "We begin by creating a list to play with.  We mix numbers and strings... just for fun."
      ]
    },
    {
      "cell_type": "code",
      "metadata": {
        "id": "LqlPEQ6jo1Nm"
      },
      "source": [
        "L = [0,'one',2,'three',4,'five',6,'seven',8,'nine',10]"
      ],
      "execution_count": 89,
      "outputs": []
    },
    {
      "cell_type": "markdown",
      "metadata": {
        "id": "k3Isc4hVo1Nm"
      },
      "source": [
        "### List terms and indices\n",
        "\n",
        "Notice that the entries in a list can be of any type.  The above list `L` has some integer entries and some string entries.  Lists are **ordered** in Python, **starting at zero**.  One can access the $n^{th}$ entry in a list with a command like `L[n]`.  "
      ]
    },
    {
      "cell_type": "code",
      "metadata": {
        "id": "P6pVVcg7o1Nn",
        "colab": {
          "base_uri": "https://localhost:8080/",
          "height": 35
        },
        "outputId": "ec8f98b7-27ae-4ca5-d576-c0d30001aeb5"
      },
      "source": [
        "L[3]"
      ],
      "execution_count": 90,
      "outputs": [
        {
          "output_type": "execute_result",
          "data": {
            "text/plain": [
              "'three'"
            ],
            "application/vnd.google.colaboratory.intrinsic+json": {
              "type": "string"
            }
          },
          "metadata": {},
          "execution_count": 90
        }
      ]
    },
    {
      "cell_type": "code",
      "metadata": {
        "id": "jX8qwH8Co1Nn",
        "colab": {
          "base_uri": "https://localhost:8080/"
        },
        "outputId": "86350670-4558-4275-a470-0dcb2739b838"
      },
      "source": [
        "print(L[3])  # Note that Python has slightly different approaches to the print-function, and the output above."
      ],
      "execution_count": 91,
      "outputs": [
        {
          "output_type": "stream",
          "name": "stdout",
          "text": [
            "three\n"
          ]
        }
      ]
    },
    {
      "cell_type": "code",
      "metadata": {
        "id": "SrEwDHyRo1Nn",
        "colab": {
          "base_uri": "https://localhost:8080/"
        },
        "outputId": "cbbedda2-2c3a-44eb-e18e-9e7e97fb49a6"
      },
      "source": [
        "print(L[4])  # We will use the print function, because it makes our printing intentions clear."
      ],
      "execution_count": 92,
      "outputs": [
        {
          "output_type": "stream",
          "name": "stdout",
          "text": [
            "4\n"
          ]
        }
      ]
    },
    {
      "cell_type": "code",
      "metadata": {
        "id": "Z-ZCNLx4o1Nn",
        "colab": {
          "base_uri": "https://localhost:8080/"
        },
        "outputId": "0ec60330-dfd5-4885-e09a-51dc07d00363"
      },
      "source": [
        "print(L[0])"
      ],
      "execution_count": 93,
      "outputs": [
        {
          "output_type": "stream",
          "name": "stdout",
          "text": [
            "0\n"
          ]
        }
      ]
    },
    {
      "cell_type": "markdown",
      "metadata": {
        "id": "9Rd1gPF9o1Nn"
      },
      "source": [
        "The location of an entry is called its **index**.  So *at* the index 3, the list `L` stores the entry `three`.  Note that the same entry can occur in many places in a list.  E.g. `[7,7,7]` is a list with 7 at the zeroth, first, and second index."
      ]
    },
    {
      "cell_type": "code",
      "metadata": {
        "id": "SHWaHBmAo1Nn",
        "colab": {
          "base_uri": "https://localhost:8080/"
        },
        "outputId": "2cc345ae-f700-4039-a9c5-c4ae74a02efd"
      },
      "source": [
        "print(L[-1])\n",
        "print(L[-2])"
      ],
      "execution_count": 94,
      "outputs": [
        {
          "output_type": "stream",
          "name": "stdout",
          "text": [
            "10\n",
            "nine\n"
          ]
        }
      ]
    },
    {
      "cell_type": "markdown",
      "metadata": {
        "id": "N8U8KO9Do1Nn"
      },
      "source": [
        "The last bit of code demonstrates a cool Python trick.  The \"-1st\" entry in a list refers to the last entry. The \"-2nd entry\" refers to the second-to-last entry, and so on.  It gives a convenient way to access both sides of the list, even if you don't know how long it is.\n",
        "\n",
        "Of course, you can use Python to find out how long a list is."
      ]
    },
    {
      "cell_type": "code",
      "metadata": {
        "id": "U69qteuto1Nn",
        "colab": {
          "base_uri": "https://localhost:8080/"
        },
        "outputId": "05f93f22-7ddc-45ba-aa80-cf43455a5be6"
      },
      "source": [
        "len(L)"
      ],
      "execution_count": 95,
      "outputs": [
        {
          "output_type": "execute_result",
          "data": {
            "text/plain": [
              "11"
            ]
          },
          "metadata": {},
          "execution_count": 95
        }
      ]
    },
    {
      "cell_type": "markdown",
      "metadata": {
        "id": "pVI66GEIo1No"
      },
      "source": [
        "You can also use Python to find the sum of a list of numbers."
      ]
    },
    {
      "cell_type": "code",
      "metadata": {
        "id": "XmBojrfto1No",
        "colab": {
          "base_uri": "https://localhost:8080/"
        },
        "outputId": "b1266894-354f-4186-d8a9-b1b3be4c5f7b"
      },
      "source": [
        "sum([1,2,3,4,5])"
      ],
      "execution_count": 96,
      "outputs": [
        {
          "output_type": "execute_result",
          "data": {
            "text/plain": [
              "15"
            ]
          },
          "metadata": {},
          "execution_count": 96
        }
      ]
    },
    {
      "cell_type": "code",
      "metadata": {
        "id": "7vO8uSwho1No",
        "colab": {
          "base_uri": "https://localhost:8080/"
        },
        "outputId": "eaf80cf2-ab0a-40ac-b2ee-b7606a23f773"
      },
      "source": [
        "sum(range(100))  # Be careful.  This is the sum of which numbers?  # The sum function can take lists or ranges."
      ],
      "execution_count": 97,
      "outputs": [
        {
          "output_type": "execute_result",
          "data": {
            "text/plain": [
              "4950"
            ]
          },
          "metadata": {},
          "execution_count": 97
        }
      ]
    },
    {
      "cell_type": "markdown",
      "metadata": {
        "id": "Gk4qkCSEo1No"
      },
      "source": [
        "### List slicing\n",
        "\n",
        "**Slicing** lists allows us to create new lists (or ranges) from old lists (or ranges), by chopping off one end or the other, or even slicing out entries at a fixed interval.  The simplest syntax has the form `L[a:b]` where `a` denotes the index of the starting entry and index of the final entry is one less than `b`.  It is best to try a few examples to get a feel for it.\n",
        "\n",
        "Slicing a list with a command like `L[a:b]` doesn't actually *change* the original list `L`.  It just extracts some terms from the list and outputs those terms.  Soon enough, we will change the list `L` using a list assignment."
      ]
    },
    {
      "cell_type": "code",
      "metadata": {
        "id": "8QNDpqJ9o1No",
        "colab": {
          "base_uri": "https://localhost:8080/"
        },
        "outputId": "1cf3d63d-a1a5-4f37-ae54-d0f61f7d99f3"
      },
      "source": [
        "L[0:5]"
      ],
      "execution_count": 98,
      "outputs": [
        {
          "output_type": "execute_result",
          "data": {
            "text/plain": [
              "[0, 'one', 2, 'three', 4]"
            ]
          },
          "metadata": {},
          "execution_count": 98
        }
      ]
    },
    {
      "cell_type": "code",
      "metadata": {
        "id": "gzEnfHqvo1No",
        "colab": {
          "base_uri": "https://localhost:8080/"
        },
        "outputId": "25d4d41a-ce65-46b2-ef14-1d16b76d71a0"
      },
      "source": [
        "L[5:11]  # Notice that L[0:5] and L[5:11] together recover the whole list."
      ],
      "execution_count": 99,
      "outputs": [
        {
          "output_type": "execute_result",
          "data": {
            "text/plain": [
              "['five', 6, 'seven', 8, 'nine', 10]"
            ]
          },
          "metadata": {},
          "execution_count": 99
        }
      ]
    },
    {
      "cell_type": "code",
      "metadata": {
        "id": "MOzb4reTo1No",
        "colab": {
          "base_uri": "https://localhost:8080/"
        },
        "outputId": "6f23159f-6fe2-4987-bdba-1cc0780978b9"
      },
      "source": [
        "L[3:7]"
      ],
      "execution_count": 100,
      "outputs": [
        {
          "output_type": "execute_result",
          "data": {
            "text/plain": [
              "['three', 4, 'five', 6]"
            ]
          },
          "metadata": {},
          "execution_count": 100
        }
      ]
    },
    {
      "cell_type": "markdown",
      "metadata": {
        "id": "Z1VPqRtoo1No"
      },
      "source": [
        "This continues the strange (for beginners) Python convention of starting at the first number and ending just before the last number.  Compare to `range(3,7)`, for example.  "
      ]
    },
    {
      "cell_type": "markdown",
      "metadata": {
        "id": "MrnvG511o1No"
      },
      "source": [
        "The command `L[0:5]` can be replaced by `L[:5]` to abbreviate.  The empty opening index tells Python to start at the beginning.  Similarly, the command `L[5:11]` can be replaced by `L[5:]`.  The empty closing index tells Python to end the slice and the end.  This is helpful if one doesn't know where the list ends."
      ]
    },
    {
      "cell_type": "code",
      "metadata": {
        "id": "-jgLcoWWo1Nq",
        "colab": {
          "base_uri": "https://localhost:8080/"
        },
        "outputId": "92c38133-bcf6-4c08-8f2b-61779f5eb2f9"
      },
      "source": [
        "L[:5]"
      ],
      "execution_count": 101,
      "outputs": [
        {
          "output_type": "execute_result",
          "data": {
            "text/plain": [
              "[0, 'one', 2, 'three', 4]"
            ]
          },
          "metadata": {},
          "execution_count": 101
        }
      ]
    },
    {
      "cell_type": "code",
      "metadata": {
        "id": "RC8VS_66o1Nq",
        "colab": {
          "base_uri": "https://localhost:8080/"
        },
        "outputId": "4ce13168-2705-4348-fb64-47af05ed2842"
      },
      "source": [
        "L[3:]"
      ],
      "execution_count": 102,
      "outputs": [
        {
          "output_type": "execute_result",
          "data": {
            "text/plain": [
              "['three', 4, 'five', 6, 'seven', 8, 'nine', 10]"
            ]
          },
          "metadata": {},
          "execution_count": 102
        }
      ]
    },
    {
      "cell_type": "markdown",
      "metadata": {
        "id": "NNnM3hfOo1Nq"
      },
      "source": [
        "Just like the `range` command, list slicing can take an optional third argument to give a step size.  To understand this, try the command below."
      ]
    },
    {
      "cell_type": "code",
      "metadata": {
        "id": "zoxAvxDdo1Nq",
        "colab": {
          "base_uri": "https://localhost:8080/"
        },
        "outputId": "34ac26b8-ca0f-4bc7-cc6d-cc645a588fd2"
      },
      "source": [
        "L[2:10]"
      ],
      "execution_count": 103,
      "outputs": [
        {
          "output_type": "execute_result",
          "data": {
            "text/plain": [
              "[2, 'three', 4, 'five', 6, 'seven', 8, 'nine']"
            ]
          },
          "metadata": {},
          "execution_count": 103
        }
      ]
    },
    {
      "cell_type": "code",
      "metadata": {
        "id": "81Afdz7do1Nq",
        "colab": {
          "base_uri": "https://localhost:8080/"
        },
        "outputId": "0a6b6ba4-ebfa-440b-9c75-d50d0b7dfc2b"
      },
      "source": [
        "L[2:10:3]"
      ],
      "execution_count": 104,
      "outputs": [
        {
          "output_type": "execute_result",
          "data": {
            "text/plain": [
              "[2, 'five', 8]"
            ]
          },
          "metadata": {},
          "execution_count": 104
        }
      ]
    },
    {
      "cell_type": "markdown",
      "metadata": {
        "id": "Ge3CcbYbo1Nq"
      },
      "source": [
        "If, in this three-argument syntax, the first or second argument is absent, then the slice starts at the beginning of the list or ends at the end of the list accordingly."
      ]
    },
    {
      "cell_type": "code",
      "metadata": {
        "id": "qpComE9ao1Nq",
        "colab": {
          "base_uri": "https://localhost:8080/"
        },
        "outputId": "afb98b9d-2b40-4d87-89f4-df6d228acbd0"
      },
      "source": [
        "L  # Just a reminder.  We haven't modified the original list!"
      ],
      "execution_count": 105,
      "outputs": [
        {
          "output_type": "execute_result",
          "data": {
            "text/plain": [
              "[0, 'one', 2, 'three', 4, 'five', 6, 'seven', 8, 'nine', 10]"
            ]
          },
          "metadata": {},
          "execution_count": 105
        }
      ]
    },
    {
      "cell_type": "code",
      "metadata": {
        "id": "4tDS36jCo1Nr",
        "colab": {
          "base_uri": "https://localhost:8080/"
        },
        "outputId": "d072a6ee-644d-4b3e-d734-050f75a41947"
      },
      "source": [
        "L[:9:3]  # Start at zero, go up to (but not including) 9, by steps of 3."
      ],
      "execution_count": 106,
      "outputs": [
        {
          "output_type": "execute_result",
          "data": {
            "text/plain": [
              "[0, 'three', 6]"
            ]
          },
          "metadata": {},
          "execution_count": 106
        }
      ]
    },
    {
      "cell_type": "code",
      "metadata": {
        "id": "MFr4nObSo1Nr",
        "colab": {
          "base_uri": "https://localhost:8080/"
        },
        "outputId": "951f4e92-d269-49d2-ab1b-45435aeae172"
      },
      "source": [
        "L[2: :3] # Start at two, go up through the end of the list, by steps of 3."
      ],
      "execution_count": 107,
      "outputs": [
        {
          "output_type": "execute_result",
          "data": {
            "text/plain": [
              "[2, 'five', 8]"
            ]
          },
          "metadata": {},
          "execution_count": 107
        }
      ]
    },
    {
      "cell_type": "code",
      "metadata": {
        "id": "X-EpKfF4o1Nr",
        "colab": {
          "base_uri": "https://localhost:8080/"
        },
        "outputId": "30fcd253-4c47-4cee-f1b9-e2c2c814f8b9"
      },
      "source": [
        "L[::3]  # Start at zero, go up through the end of the list, by steps of 3."
      ],
      "execution_count": 108,
      "outputs": [
        {
          "output_type": "execute_result",
          "data": {
            "text/plain": [
              "[0, 'three', 6, 'nine']"
            ]
          },
          "metadata": {},
          "execution_count": 108
        }
      ]
    },
    {
      "cell_type": "markdown",
      "metadata": {
        "id": "2dTiwVYho1Nr"
      },
      "source": [
        "### Changing list slices"
      ]
    },
    {
      "cell_type": "markdown",
      "metadata": {
        "id": "4y5zku1Mo1Nr"
      },
      "source": [
        "Not only can we extract and study terms or slices of a list, we can change them by assignment.  The simplest case would be changing a single term of a list."
      ]
    },
    {
      "cell_type": "code",
      "metadata": {
        "id": "OfPbYfsPo1Nr",
        "colab": {
          "base_uri": "https://localhost:8080/"
        },
        "outputId": "34c1673c-2406-42cd-b4d4-fde9ce9a0a89"
      },
      "source": [
        "print(L) # Start with the list L."
      ],
      "execution_count": 109,
      "outputs": [
        {
          "output_type": "stream",
          "name": "stdout",
          "text": [
            "[0, 'one', 2, 'three', 4, 'five', 6, 'seven', 8, 'nine', 10]\n"
          ]
        }
      ]
    },
    {
      "cell_type": "code",
      "metadata": {
        "id": "UIvNYPDDo1Nr"
      },
      "source": [
        "L[5] = 'Bacon!'"
      ],
      "execution_count": 110,
      "outputs": []
    },
    {
      "cell_type": "code",
      "metadata": {
        "id": "RLd45i_No1Nr",
        "colab": {
          "base_uri": "https://localhost:8080/"
        },
        "outputId": "616a7298-d527-4fd8-c663-7ff4a23543ce"
      },
      "source": [
        "print(L)  # What do you think L is now?"
      ],
      "execution_count": 111,
      "outputs": [
        {
          "output_type": "stream",
          "name": "stdout",
          "text": [
            "[0, 'one', 2, 'three', 4, 'Bacon!', 6, 'seven', 8, 'nine', 10]\n"
          ]
        }
      ]
    },
    {
      "cell_type": "code",
      "metadata": {
        "id": "B6G0Uga9o1Nr",
        "colab": {
          "base_uri": "https://localhost:8080/"
        },
        "outputId": "616a3f98-324e-42a5-9ae5-bad0bd3ac0ca"
      },
      "source": [
        "print(L[2::3]) # What do you think this will do?"
      ],
      "execution_count": 112,
      "outputs": [
        {
          "output_type": "stream",
          "name": "stdout",
          "text": [
            "[2, 'Bacon!', 8]\n"
          ]
        }
      ]
    },
    {
      "cell_type": "markdown",
      "metadata": {
        "id": "uGennJ2qo1Nr"
      },
      "source": [
        "We can change an entire slice of a list with a single assignment.  Let's change the first two terms of `L` in one line."
      ]
    },
    {
      "cell_type": "code",
      "metadata": {
        "id": "y2qRmtGpo1Nr"
      },
      "source": [
        "L[:2] = ['Pancakes', 'Ham']  # What was L[:2] before?"
      ],
      "execution_count": 113,
      "outputs": []
    },
    {
      "cell_type": "code",
      "metadata": {
        "id": "ovOM7CW5o1Ns",
        "colab": {
          "base_uri": "https://localhost:8080/"
        },
        "outputId": "48427b34-11df-40d2-8896-3207d6a0ae9e"
      },
      "source": [
        "print(L) # Oh... what have we done!"
      ],
      "execution_count": 114,
      "outputs": [
        {
          "output_type": "stream",
          "name": "stdout",
          "text": [
            "['Pancakes', 'Ham', 2, 'three', 4, 'Bacon!', 6, 'seven', 8, 'nine', 10]\n"
          ]
        }
      ]
    },
    {
      "cell_type": "code",
      "metadata": {
        "id": "xaVOdSGdo1Ns",
        "colab": {
          "base_uri": "https://localhost:8080/",
          "height": 35
        },
        "outputId": "6f11f335-0b42-454b-f23d-c375c0f3104a"
      },
      "source": [
        "L[0]"
      ],
      "execution_count": 115,
      "outputs": [
        {
          "output_type": "execute_result",
          "data": {
            "text/plain": [
              "'Pancakes'"
            ],
            "application/vnd.google.colaboratory.intrinsic+json": {
              "type": "string"
            }
          },
          "metadata": {},
          "execution_count": 115
        }
      ]
    },
    {
      "cell_type": "code",
      "metadata": {
        "id": "7VzDxYkvo1Ns",
        "colab": {
          "base_uri": "https://localhost:8080/",
          "height": 35
        },
        "outputId": "447112c4-83fc-44a9-da1f-f15b7e0696fe"
      },
      "source": [
        "L[1]"
      ],
      "execution_count": 116,
      "outputs": [
        {
          "output_type": "execute_result",
          "data": {
            "text/plain": [
              "'Ham'"
            ],
            "application/vnd.google.colaboratory.intrinsic+json": {
              "type": "string"
            }
          },
          "metadata": {},
          "execution_count": 116
        }
      ]
    },
    {
      "cell_type": "code",
      "metadata": {
        "id": "XEExh5vko1Ns",
        "colab": {
          "base_uri": "https://localhost:8080/"
        },
        "outputId": "5873c184-6c09-4c72-caf1-c96f53a7f0e7"
      },
      "source": [
        "L[2]"
      ],
      "execution_count": 117,
      "outputs": [
        {
          "output_type": "execute_result",
          "data": {
            "text/plain": [
              "2"
            ]
          },
          "metadata": {},
          "execution_count": 117
        }
      ]
    },
    {
      "cell_type": "markdown",
      "metadata": {
        "id": "G5jugoLbo1Ns"
      },
      "source": [
        "We can change a slice of a list with a single assignment, even when that slice does not consist of consecutive terms.  Try to predict what the following commands will do."
      ]
    },
    {
      "cell_type": "code",
      "metadata": {
        "id": "U9HQud-4o1Ns",
        "colab": {
          "base_uri": "https://localhost:8080/"
        },
        "outputId": "bfedcd54-b156-4286-b29c-e30c871dc343"
      },
      "source": [
        "print(L)  # Let's see what the list looks like before."
      ],
      "execution_count": 118,
      "outputs": [
        {
          "output_type": "stream",
          "name": "stdout",
          "text": [
            "['Pancakes', 'Ham', 2, 'three', 4, 'Bacon!', 6, 'seven', 8, 'nine', 10]\n"
          ]
        }
      ]
    },
    {
      "cell_type": "code",
      "metadata": {
        "id": "WaeNsMU8o1Ns"
      },
      "source": [
        "L[::2] = ['A','B','C','D','E','F']  # What was L[::2] before this assignment? "
      ],
      "execution_count": 119,
      "outputs": []
    },
    {
      "cell_type": "code",
      "metadata": {
        "id": "e4DFQ2ZBo1Ns",
        "colab": {
          "base_uri": "https://localhost:8080/"
        },
        "outputId": "8ec7821d-2c82-472a-fd9a-3fe6db7ada57"
      },
      "source": [
        "print(L)  # What do you predict?"
      ],
      "execution_count": 120,
      "outputs": [
        {
          "output_type": "stream",
          "name": "stdout",
          "text": [
            "['A', 'Ham', 'B', 'three', 'C', 'Bacon!', 'D', 'seven', 'E', 'nine', 'F']\n"
          ]
        }
      ]
    },
    {
      "cell_type": "markdown",
      "metadata": {
        "id": "g7PBhl-1o1Ns"
      },
      "source": [
        "## List methods"
      ]
    },
    {
      "cell_type": "markdown",
      "metadata": {
        "id": "E4_oZBZYo1Ns"
      },
      "source": [
        "A method is a function that is attached to an object.  We have already used one method:  the `format` method that is attached to all strings.  You might have seen the `replace` method for strings too.  Note that single-quotes `'Hello'` or double-quotes `\"Hello\"` can be used for strings."
      ]
    },
    {
      "cell_type": "code",
      "metadata": {
        "id": "A9ZJsXNFo1Ns",
        "colab": {
          "base_uri": "https://localhost:8080/",
          "height": 35
        },
        "outputId": "5cecedf3-f0be-4d3c-ecee-a5b1c05333d4"
      },
      "source": [
        "\"Hello {}!\".format('programming student')"
      ],
      "execution_count": 121,
      "outputs": [
        {
          "output_type": "execute_result",
          "data": {
            "text/plain": [
              "'Hello programming student!'"
            ],
            "application/vnd.google.colaboratory.intrinsic+json": {
              "type": "string"
            }
          },
          "metadata": {},
          "execution_count": 121
        }
      ]
    },
    {
      "cell_type": "code",
      "metadata": {
        "id": "rWpWVH7eo1Nt",
        "colab": {
          "base_uri": "https://localhost:8080/",
          "height": 35
        },
        "outputId": "0fa17c76-918c-44d3-b04e-9bbffa4d964d"
      },
      "source": [
        "\"Programming is fun!\".replace('fun','lit')"
      ],
      "execution_count": 122,
      "outputs": [
        {
          "output_type": "execute_result",
          "data": {
            "text/plain": [
              "'Programming is lit!'"
            ],
            "application/vnd.google.colaboratory.intrinsic+json": {
              "type": "string"
            }
          },
          "metadata": {},
          "execution_count": 122
        }
      ]
    },
    {
      "cell_type": "markdown",
      "metadata": {
        "id": "o_HBkyp_o1Nt"
      },
      "source": [
        "List methods are functions attached to lists.  Some useful methods include `append` and `sort`.  A fuller listing can be found at [the official documentation](https://docs.python.org/3/tutorial/datastructures.html)."
      ]
    },
    {
      "cell_type": "code",
      "metadata": {
        "id": "_KkgeG-yo1Nt",
        "colab": {
          "base_uri": "https://localhost:8080/"
        },
        "outputId": "7f460dc3-b307-4dae-b13f-4c62bdaeac64"
      },
      "source": [
        "L = [1,2,3]\n",
        "L.append(4)\n",
        "print(L)"
      ],
      "execution_count": 123,
      "outputs": [
        {
          "output_type": "stream",
          "name": "stdout",
          "text": [
            "[1, 2, 3, 4]\n"
          ]
        }
      ]
    },
    {
      "cell_type": "markdown",
      "metadata": {
        "id": "VjkSU8Eyo1Nt"
      },
      "source": [
        "The `append` method can be used to add new items to the end of a list.  But be careful if you want to add multiple items!"
      ]
    },
    {
      "cell_type": "code",
      "metadata": {
        "id": "aS1Nuu84o1Nt",
        "colab": {
          "base_uri": "https://localhost:8080/"
        },
        "outputId": "e7b21415-3c53-4cb3-9c4f-a4354a1425ab"
      },
      "source": [
        "L.append([5,6])\n",
        "print(L)"
      ],
      "execution_count": 124,
      "outputs": [
        {
          "output_type": "stream",
          "name": "stdout",
          "text": [
            "[1, 2, 3, 4, [5, 6]]\n"
          ]
        }
      ]
    },
    {
      "cell_type": "markdown",
      "metadata": {
        "id": "THb1IcA6o1Nt"
      },
      "source": [
        "Behind the scenes, methods are functions which have a special input parameter called `self`.  So when you use a command like `L.append(4)`, you are effectively running `append(L, 4)`.  The `self` parameter is the object the method is attached to.\n",
        "\n",
        "Like all functions, methods have outputs too.  But what can be confusing is that methods can *modify* `self` and can sometimes *return* `None`.  "
      ]
    },
    {
      "cell_type": "code",
      "metadata": {
        "id": "TdOwNbHvo1Nt",
        "colab": {
          "base_uri": "https://localhost:8080/"
        },
        "outputId": "b539d6e9-2f0a-43e1-c88d-71f53e13d337"
      },
      "source": [
        "print([1,2,3].append(4))\n",
        "print(\"123\".replace(\"3\",\"4\"))"
      ],
      "execution_count": 125,
      "outputs": [
        {
          "output_type": "stream",
          "name": "stdout",
          "text": [
            "None\n",
            "124\n"
          ]
        }
      ]
    },
    {
      "cell_type": "markdown",
      "metadata": {
        "id": "CNutNo0ro1Nt"
      },
      "source": [
        "This is very confusing at first!  The list `append` method *does* change `self` by appending something to `self`.  But as a function, it returns `None`.  \n",
        "\n",
        "On the other hand, the string `replace` method *does not* change `self` and instead *returns* the modified string.\n",
        "\n",
        "This will make more sense after we study *mutable* and *immutable* types.  Lists are mutable (and thus are often changed by their methods).  Strings are immutable, and so changes are effected by producing new strings.  Another example of a string method is `sort()`.  The only parameter of `sort` is `self`, and so nothing needs to go between the paraentheses."
      ]
    },
    {
      "cell_type": "code",
      "metadata": {
        "id": "iOJkQ3cIo1Nt",
        "colab": {
          "base_uri": "https://localhost:8080/"
        },
        "outputId": "b244082e-8904-4630-c675-3deca1a32c48"
      },
      "source": [
        "L = [4,2,1]  # Make a list.\n",
        "L.sort()  # Sort the list.  This *changes* L and returns None.\n",
        "print(L)  # Let's see what L is now."
      ],
      "execution_count": 126,
      "outputs": [
        {
          "output_type": "stream",
          "name": "stdout",
          "text": [
            "[1, 2, 4]\n"
          ]
        }
      ]
    },
    {
      "cell_type": "code",
      "metadata": {
        "id": "ZDaPzUUjo1Nt",
        "colab": {
          "base_uri": "https://localhost:8080/"
        },
        "outputId": "75670e7d-552e-4dad-cea5-bb27d64c7bf6"
      },
      "source": [
        "L = ['Ukelele', 'Apple', 'Dog', 'Cat' ]\n",
        "L.sort()\n",
        "print(L)"
      ],
      "execution_count": 127,
      "outputs": [
        {
          "output_type": "stream",
          "name": "stdout",
          "text": [
            "['Apple', 'Cat', 'Dog', 'Ukelele']\n"
          ]
        }
      ]
    },
    {
      "cell_type": "markdown",
      "metadata": {
        "id": "2ibPAiCCo1Nu"
      },
      "source": [
        "Sorting numbers is possible, because the Python operator `<` is defined for numbers.  Sorting strings is possible, because the Python operator `<` is interpreted alphabetically among strings.  If you mix types, Python might not know how to behave... you'll get a TypeError."
      ]
    },
    {
      "cell_type": "code",
      "metadata": {
        "id": "EmIGZqSQo1Nu",
        "colab": {
          "base_uri": "https://localhost:8080/",
          "height": 204
        },
        "outputId": "1f7be79f-3ef2-4ab7-9541-5444bc011ab1"
      },
      "source": [
        "L = [1,'Apple', 3.14]\n",
        "L.sort()\n",
        "print(L)"
      ],
      "execution_count": 128,
      "outputs": [
        {
          "output_type": "error",
          "ename": "TypeError",
          "evalue": "ignored",
          "traceback": [
            "\u001b[0;31m---------------------------------------------------------------------------\u001b[0m",
            "\u001b[0;31mTypeError\u001b[0m                                 Traceback (most recent call last)",
            "\u001b[0;32m<ipython-input-128-e3d2589f72dc>\u001b[0m in \u001b[0;36m<module>\u001b[0;34m\u001b[0m\n\u001b[1;32m      1\u001b[0m \u001b[0mL\u001b[0m \u001b[0;34m=\u001b[0m \u001b[0;34m[\u001b[0m\u001b[0;36m1\u001b[0m\u001b[0;34m,\u001b[0m\u001b[0;34m'Apple'\u001b[0m\u001b[0;34m,\u001b[0m \u001b[0;36m3.14\u001b[0m\u001b[0;34m]\u001b[0m\u001b[0;34m\u001b[0m\u001b[0;34m\u001b[0m\u001b[0m\n\u001b[0;32m----> 2\u001b[0;31m \u001b[0mL\u001b[0m\u001b[0;34m.\u001b[0m\u001b[0msort\u001b[0m\u001b[0;34m(\u001b[0m\u001b[0;34m)\u001b[0m\u001b[0;34m\u001b[0m\u001b[0;34m\u001b[0m\u001b[0m\n\u001b[0m\u001b[1;32m      3\u001b[0m \u001b[0mprint\u001b[0m\u001b[0;34m(\u001b[0m\u001b[0mL\u001b[0m\u001b[0;34m)\u001b[0m\u001b[0;34m\u001b[0m\u001b[0;34m\u001b[0m\u001b[0m\n",
            "\u001b[0;31mTypeError\u001b[0m: '<' not supported between instances of 'str' and 'int'"
          ]
        }
      ]
    },
    {
      "cell_type": "markdown",
      "metadata": {
        "id": "RMN4XjXHo1Nu"
      },
      "source": [
        "### Exercises\n",
        "\n",
        "1.  Create a list L with L = [1,2,3,...,100] (all the numbers from 1 to 100).  What is L[50]?\n",
        "\n",
        "2.  Take the same list L, and extract a slice of the form [5,10,15,...,95] with a command of the form L[a:b:c].\n",
        "\n",
        "3.  Take the same list L, and change all the even numbers to zeros, so that L looks like [1,0,3,0,5,0,...,99,0].  Hint:  You might wish to use the list [0]*50.\n",
        "\n",
        "4.  Try the command `L[-1::-1]` on a list.  What does it do?  Can you guess before executing it?  Can you understand why?  In fact, strings are indexed like lists.  Try setting `L = 'Hello'` and the previous command.\n",
        "\n",
        "5.  Create the list [1,100,3,98,5,96,...,99,2], where the odd terms are in order and the even terms are in reverse order.  There are multiple methods!\n",
        "\n",
        "6.  Use the append method with a loop to create a list of perfect squares, [0,1,4,9,16,25,...,10000].\n",
        "\n",
        "7.  Create a list of 52 \"cards\" to resemble a standard card deck.  The suits can be denoted C,S,D,H for clubs, spades, diamonds, and hearts.  The numbers can be denoted 1-13 (with Ace = 1, Jack = 11, Queen = 12, King = 13).  So \"9H\" would be the 9 of hearts, and 12S the queen of spades.  Your list L should contain every card.  \n",
        "\n",
        "8.  Challenge:  write a function which performs a \"perfect riffle shuffle\" on a list of cards.  This shuffle should have the effect of dividing the deck into two equal pieces, and then precisely interlacing the two pieces to form a new list.  E.g., an input list of `[1,2,3,4,5,6]` should be broken into `[1,2,3]` and `[4,5,6]` and then interlaced as `[1,4,2,5,3,6]`."
      ]
    },
    {
      "cell_type": "markdown",
      "source": [
        "### Solutions\n",
        "\n",
        "1. `L[50]=51`\n",
        "2. `L[4:99:5]`\n",
        "3. See code below.\n",
        "4. It starts at the end and goes backwards by 1 until the first term. How I understand it is: the `-1` term goes from the beginning to the previous term so it \"loops\" back to the end. The code for `L='Hello'` makes the str `olleH` turning it backwards just like for lists of ints.\n",
        "5. See code below.\n",
        "6. See code below.\n",
        "7. See code below. The list does not exactly match with the professor's example but it still functions exactly like a deck of 52 cards and follows the prompt.\n",
        "8. See code below. My intrepretation was the \"deck\" has to have an even amount of cards as it says \"equal\" pieces."
      ],
      "metadata": {
        "id": "FLyu5WTJufcd"
      }
    },
    {
      "cell_type": "code",
      "source": [
        "L=list(range(1,101)) #exercise 1\n",
        "L[50]"
      ],
      "metadata": {
        "id": "DSB0Qj_Duhw3",
        "colab": {
          "base_uri": "https://localhost:8080/"
        },
        "outputId": "9f85fc6d-a302-4948-da61-19e9429fdedc"
      },
      "execution_count": 129,
      "outputs": [
        {
          "output_type": "execute_result",
          "data": {
            "text/plain": [
              "51"
            ]
          },
          "metadata": {},
          "execution_count": 129
        }
      ]
    },
    {
      "cell_type": "code",
      "source": [
        "print(L[4:99:5]) # exercise 2"
      ],
      "metadata": {
        "id": "1ZXeViQwu2CA",
        "colab": {
          "base_uri": "https://localhost:8080/"
        },
        "outputId": "04360110-c595-4a4f-c4b5-7f85204f3ec6"
      },
      "execution_count": 130,
      "outputs": [
        {
          "output_type": "stream",
          "name": "stdout",
          "text": [
            "[5, 10, 15, 20, 25, 30, 35, 40, 45, 50, 55, 60, 65, 70, 75, 80, 85, 90, 95]\n"
          ]
        }
      ]
    },
    {
      "cell_type": "code",
      "source": [
        "S=[0]*100 # exercise 3\n",
        "L=list(range(1,101))\n",
        "for i in range(1,101,2):\n",
        "  L[i]=S[i]\n",
        "print(L)"
      ],
      "metadata": {
        "id": "JuXWcn6Jf1Zr",
        "colab": {
          "base_uri": "https://localhost:8080/"
        },
        "outputId": "4e2c447c-aeac-4048-e437-878a0a3aa875"
      },
      "execution_count": 131,
      "outputs": [
        {
          "output_type": "stream",
          "name": "stdout",
          "text": [
            "[1, 0, 3, 0, 5, 0, 7, 0, 9, 0, 11, 0, 13, 0, 15, 0, 17, 0, 19, 0, 21, 0, 23, 0, 25, 0, 27, 0, 29, 0, 31, 0, 33, 0, 35, 0, 37, 0, 39, 0, 41, 0, 43, 0, 45, 0, 47, 0, 49, 0, 51, 0, 53, 0, 55, 0, 57, 0, 59, 0, 61, 0, 63, 0, 65, 0, 67, 0, 69, 0, 71, 0, 73, 0, 75, 0, 77, 0, 79, 0, 81, 0, 83, 0, 85, 0, 87, 0, 89, 0, 91, 0, 93, 0, 95, 0, 97, 0, 99, 0]\n"
          ]
        }
      ]
    },
    {
      "cell_type": "code",
      "source": [
        "S=[1,2,3,4]\n",
        "L='Hello' # exercise 4\n",
        "print(L[-1::-1],S[-1::-1])"
      ],
      "metadata": {
        "id": "unPtf8WmuW9i",
        "colab": {
          "base_uri": "https://localhost:8080/"
        },
        "outputId": "a95528f2-205c-42bf-8342-ec7a6749e780"
      },
      "execution_count": 132,
      "outputs": [
        {
          "output_type": "stream",
          "name": "stdout",
          "text": [
            "olleH [4, 3, 2, 1]\n"
          ]
        }
      ]
    },
    {
      "cell_type": "code",
      "source": [
        "S=[0]*100 # exercise 5\n",
        "C=list(range(101,0,-1))\n",
        "L=list(range(1,101))\n",
        "for i in range(1,101,2):\n",
        "  L[i]=S[i]\n",
        "for n in range(1,101,2):\n",
        "  L[n]=C[n]\n",
        "print(L)\n"
      ],
      "metadata": {
        "id": "M8frPvtbuvM0",
        "colab": {
          "base_uri": "https://localhost:8080/"
        },
        "outputId": "74ed5dcb-83ae-40ec-f53d-0eac46865f2c"
      },
      "execution_count": 133,
      "outputs": [
        {
          "output_type": "stream",
          "name": "stdout",
          "text": [
            "[1, 100, 3, 98, 5, 96, 7, 94, 9, 92, 11, 90, 13, 88, 15, 86, 17, 84, 19, 82, 21, 80, 23, 78, 25, 76, 27, 74, 29, 72, 31, 70, 33, 68, 35, 66, 37, 64, 39, 62, 41, 60, 43, 58, 45, 56, 47, 54, 49, 52, 51, 50, 53, 48, 55, 46, 57, 44, 59, 42, 61, 40, 63, 38, 65, 36, 67, 34, 69, 32, 71, 30, 73, 28, 75, 26, 77, 24, 79, 22, 81, 20, 83, 18, 85, 16, 87, 14, 89, 12, 91, 10, 93, 8, 95, 6, 97, 4, 99, 2]\n"
          ]
        }
      ]
    },
    {
      "cell_type": "code",
      "source": [
        "L=list(range(0,101)) # exercise 6\n",
        "S=[]\n",
        "for i in L:\n",
        "  S.append(i*i)\n",
        "print(S)"
      ],
      "metadata": {
        "id": "UDnradNjZxMX",
        "colab": {
          "base_uri": "https://localhost:8080/"
        },
        "outputId": "ae53cf74-a884-4968-fbb1-b3fe57dccda0"
      },
      "execution_count": 134,
      "outputs": [
        {
          "output_type": "stream",
          "name": "stdout",
          "text": [
            "[0, 1, 4, 9, 16, 25, 36, 49, 64, 81, 100, 121, 144, 169, 196, 225, 256, 289, 324, 361, 400, 441, 484, 529, 576, 625, 676, 729, 784, 841, 900, 961, 1024, 1089, 1156, 1225, 1296, 1369, 1444, 1521, 1600, 1681, 1764, 1849, 1936, 2025, 2116, 2209, 2304, 2401, 2500, 2601, 2704, 2809, 2916, 3025, 3136, 3249, 3364, 3481, 3600, 3721, 3844, 3969, 4096, 4225, 4356, 4489, 4624, 4761, 4900, 5041, 5184, 5329, 5476, 5625, 5776, 5929, 6084, 6241, 6400, 6561, 6724, 6889, 7056, 7225, 7396, 7569, 7744, 7921, 8100, 8281, 8464, 8649, 8836, 9025, 9216, 9409, 9604, 9801, 10000]\n"
          ]
        }
      ]
    },
    {
      "cell_type": "code",
      "source": [
        "L=[0]*52 # exercise 7\n",
        "Number=list(range(1,14))*4\n",
        "Suit=[\"C\",\"S\",\"D\",\"H\"]*13\n",
        "for i in range(0,52):\n",
        "  L[i]=(str(Number[i])+Suit[i])\n",
        "print(L)"
      ],
      "metadata": {
        "id": "cXRwaBz8asl6",
        "colab": {
          "base_uri": "https://localhost:8080/"
        },
        "outputId": "5270b5d8-4939-47d8-d732-814618d4f88d"
      },
      "execution_count": 135,
      "outputs": [
        {
          "output_type": "stream",
          "name": "stdout",
          "text": [
            "['1C', '2S', '3D', '4H', '5C', '6S', '7D', '8H', '9C', '10S', '11D', '12H', '13C', '1S', '2D', '3H', '4C', '5S', '6D', '7H', '8C', '9S', '10D', '11H', '12C', '13S', '1D', '2H', '3C', '4S', '5D', '6H', '7C', '8S', '9D', '10H', '11C', '12S', '13D', '1H', '2C', '3S', '4D', '5H', '6C', '7S', '8D', '9H', '10C', '11S', '12D', '13H']\n"
          ]
        }
      ]
    },
    {
      "cell_type": "code",
      "source": [
        "def perfect_shuffle(L): # exercise 8\n",
        "  length=len(L)\n",
        "  half_one=[]\n",
        "  half_two=[]\n",
        "  for q in L[:length//2]:\n",
        "    half_one.append(q)\n",
        "  for w in L[length//2:]:\n",
        "    half_two.append(w)\n",
        "  length_half=len(half_one)\n",
        "  if length%2!=0:\n",
        "    raise TypeError(\"Not an even deck!\")\n",
        "  L=[]\n",
        "  for i in range(0,length_half):\n",
        "    L.append(half_one[i])\n",
        "    L.append(half_two[i])\n",
        "  print(half_one)\n",
        "  print(half_two)\n",
        "  return(L)"
      ],
      "metadata": {
        "id": "6j8HA4iiupgz"
      },
      "execution_count": 146,
      "outputs": []
    },
    {
      "cell_type": "code",
      "source": [
        "perfect_shuffle([1,2,3,4,5,6,7,8,9,10,11,12,13,14,15,16,17,18,20,21])"
      ],
      "metadata": {
        "id": "oZDx3mcbkhsA",
        "colab": {
          "base_uri": "https://localhost:8080/"
        },
        "outputId": "e1737bc9-3894-4539-ec42-98b55ed3ff0b"
      },
      "execution_count": 147,
      "outputs": [
        {
          "output_type": "stream",
          "name": "stdout",
          "text": [
            "[1, 2, 3, 4, 5, 6, 7, 8, 9, 10]\n",
            "[11, 12, 13, 14, 15, 16, 17, 18, 20, 21]\n"
          ]
        },
        {
          "output_type": "execute_result",
          "data": {
            "text/plain": [
              "[1, 11, 2, 12, 3, 13, 4, 14, 5, 15, 6, 16, 7, 17, 8, 18, 9, 20, 10, 21]"
            ]
          },
          "metadata": {},
          "execution_count": 147
        }
      ]
    },
    {
      "cell_type": "markdown",
      "metadata": {
        "id": "DIORkSZEo1Nu"
      },
      "source": [
        "## Sieve of Eratosthenes"
      ]
    },
    {
      "cell_type": "markdown",
      "metadata": {
        "id": "rTQgPGs2o1Nu"
      },
      "source": [
        "The **Sieve of Eratosthenes** (hereafter called \"the sieve\") is a very fast way of producing long lists of primes, without doing repeated primality checking.  The basic idea is to start with all of the natural numbers, and successively filter out, or [**sieve**](https://en.wikipedia.org/wiki/Sieve), the multiples of 2, then the multiples of 3, then the multiples of 5, etc., until only primes are left.  You can read more about the sieve, and experimental number theory, at [The Conversation](https://theconversation.com/why-prime-numbers-still-fascinate-mathematicians-2-300-years-later-92484)\n",
        "\n",
        "Using list slicing, we can carry out this sieving process efficiently.  And with a few more tricks we encounter here, we can carry out the Sieve **very** efficiently."
      ]
    },
    {
      "cell_type": "markdown",
      "metadata": {
        "id": "_jx0oxsuo1Nu"
      },
      "source": [
        "### The basic sieve\n",
        "\n",
        "The first approach we introduce is a bit naive, but is a good starting place.  We will begin with a list of numbers up to 100, and sieve out the appropriate multiples of 2,3,5,7."
      ]
    },
    {
      "cell_type": "code",
      "metadata": {
        "id": "xiF25G0Zo1Nu"
      },
      "source": [
        "primes = list(range(100)) # Let's start with the numbers 0...99."
      ],
      "execution_count": 148,
      "outputs": []
    },
    {
      "cell_type": "markdown",
      "metadata": {
        "id": "XIDLjxG4o1Nu"
      },
      "source": [
        "Now, to \"filter\", i.e., to say that a number is *not* prime, let's just change the number to the value `None`.  "
      ]
    },
    {
      "cell_type": "code",
      "metadata": {
        "id": "5VK6hIBEo1Nu",
        "colab": {
          "base_uri": "https://localhost:8080/"
        },
        "outputId": "3eedbcdc-f176-4719-e34b-679508ab8559"
      },
      "source": [
        "primes[0] = None # Zero is not prime.\n",
        "primes[1] = None # One is not prime.\n",
        "print(primes) # What have we done?"
      ],
      "execution_count": 149,
      "outputs": [
        {
          "output_type": "stream",
          "name": "stdout",
          "text": [
            "[None, None, 2, 3, 4, 5, 6, 7, 8, 9, 10, 11, 12, 13, 14, 15, 16, 17, 18, 19, 20, 21, 22, 23, 24, 25, 26, 27, 28, 29, 30, 31, 32, 33, 34, 35, 36, 37, 38, 39, 40, 41, 42, 43, 44, 45, 46, 47, 48, 49, 50, 51, 52, 53, 54, 55, 56, 57, 58, 59, 60, 61, 62, 63, 64, 65, 66, 67, 68, 69, 70, 71, 72, 73, 74, 75, 76, 77, 78, 79, 80, 81, 82, 83, 84, 85, 86, 87, 88, 89, 90, 91, 92, 93, 94, 95, 96, 97, 98, 99]\n"
          ]
        }
      ]
    },
    {
      "cell_type": "markdown",
      "metadata": {
        "id": "f60YBXEpo1Nv"
      },
      "source": [
        "Now let's filter out the multiples of 2, starting at 4.  This is the slice `primes[4::2]`"
      ]
    },
    {
      "cell_type": "code",
      "metadata": {
        "id": "WIBb5mQ3o1Nv",
        "colab": {
          "base_uri": "https://localhost:8080/"
        },
        "outputId": "e73a7ca8-f7df-4514-c210-6e5126b5f22a"
      },
      "source": [
        "primes[4::2] = [None] * len(primes[4::2])  # The right side is a list of Nones, of the necessary length.\n",
        "print(primes) # What have we done?"
      ],
      "execution_count": 150,
      "outputs": [
        {
          "output_type": "stream",
          "name": "stdout",
          "text": [
            "[None, None, 2, 3, None, 5, None, 7, None, 9, None, 11, None, 13, None, 15, None, 17, None, 19, None, 21, None, 23, None, 25, None, 27, None, 29, None, 31, None, 33, None, 35, None, 37, None, 39, None, 41, None, 43, None, 45, None, 47, None, 49, None, 51, None, 53, None, 55, None, 57, None, 59, None, 61, None, 63, None, 65, None, 67, None, 69, None, 71, None, 73, None, 75, None, 77, None, 79, None, 81, None, 83, None, 85, None, 87, None, 89, None, 91, None, 93, None, 95, None, 97, None, 99]\n"
          ]
        }
      ]
    },
    {
      "cell_type": "markdown",
      "metadata": {
        "id": "gD0IZ3ffo1Nv"
      },
      "source": [
        "Now we filter out the multiples of 3, starting at 9."
      ]
    },
    {
      "cell_type": "code",
      "metadata": {
        "id": "nRDiN5ZYo1Nv",
        "colab": {
          "base_uri": "https://localhost:8080/"
        },
        "outputId": "abb473a9-057e-4821-a1f6-17a72b2f28aa"
      },
      "source": [
        "primes[9::3] = [None] * len(primes[9::3])  # The right side is a list of Nones, of the necessary length.\n",
        "print(primes) # What have we done?"
      ],
      "execution_count": 151,
      "outputs": [
        {
          "output_type": "stream",
          "name": "stdout",
          "text": [
            "[None, None, 2, 3, None, 5, None, 7, None, None, None, 11, None, 13, None, None, None, 17, None, 19, None, None, None, 23, None, 25, None, None, None, 29, None, 31, None, None, None, 35, None, 37, None, None, None, 41, None, 43, None, None, None, 47, None, 49, None, None, None, 53, None, 55, None, None, None, 59, None, 61, None, None, None, 65, None, 67, None, None, None, 71, None, 73, None, None, None, 77, None, 79, None, None, None, 83, None, 85, None, None, None, 89, None, 91, None, None, None, 95, None, 97, None, None]\n"
          ]
        }
      ]
    },
    {
      "cell_type": "markdown",
      "metadata": {
        "id": "OkeNZU2Uo1Nv"
      },
      "source": [
        "Next the multiples of 5, starting at 25 (the first multiple of 5 greater than 5 that's left!)"
      ]
    },
    {
      "cell_type": "code",
      "metadata": {
        "id": "Aocpditlo1Nv",
        "colab": {
          "base_uri": "https://localhost:8080/"
        },
        "outputId": "cec38a0d-d3a2-441f-88b4-b52e27a89c96"
      },
      "source": [
        "primes[25::5] = [None] * len(primes[25::5])  # The right side is a list of Nones, of the necessary length.\n",
        "print(primes) # What have we done?"
      ],
      "execution_count": 152,
      "outputs": [
        {
          "output_type": "stream",
          "name": "stdout",
          "text": [
            "[None, None, 2, 3, None, 5, None, 7, None, None, None, 11, None, 13, None, None, None, 17, None, 19, None, None, None, 23, None, None, None, None, None, 29, None, 31, None, None, None, None, None, 37, None, None, None, 41, None, 43, None, None, None, 47, None, 49, None, None, None, 53, None, None, None, None, None, 59, None, 61, None, None, None, None, None, 67, None, None, None, 71, None, 73, None, None, None, 77, None, 79, None, None, None, 83, None, None, None, None, None, 89, None, 91, None, None, None, None, None, 97, None, None]\n"
          ]
        }
      ]
    },
    {
      "cell_type": "markdown",
      "metadata": {
        "id": "9DYckJ43o1Nv"
      },
      "source": [
        "Finally, the multiples of 7, starting at 49 (the first multiple of 7 greater than 7 that's left!)"
      ]
    },
    {
      "cell_type": "code",
      "metadata": {
        "id": "NMMhQYBqo1Nv",
        "colab": {
          "base_uri": "https://localhost:8080/"
        },
        "outputId": "a05e79c3-39ec-4170-d9c0-ab2b52e9cdfa"
      },
      "source": [
        "primes[49::7] = [None] * len(primes[49::7])  # The right side is a list of Nones, of the necessary length.\n",
        "print(primes) # What have we done?"
      ],
      "execution_count": 153,
      "outputs": [
        {
          "output_type": "stream",
          "name": "stdout",
          "text": [
            "[None, None, 2, 3, None, 5, None, 7, None, None, None, 11, None, 13, None, None, None, 17, None, 19, None, None, None, 23, None, None, None, None, None, 29, None, 31, None, None, None, None, None, 37, None, None, None, 41, None, 43, None, None, None, 47, None, None, None, None, None, 53, None, None, None, None, None, 59, None, 61, None, None, None, None, None, 67, None, None, None, 71, None, 73, None, None, None, None, None, 79, None, None, None, 83, None, None, None, None, None, 89, None, None, None, None, None, None, None, 97, None, None]\n"
          ]
        }
      ]
    },
    {
      "cell_type": "markdown",
      "metadata": {
        "id": "6Dulthjho1Nv"
      },
      "source": [
        "What's left?  A lot of `None`s and the prime numbers up to 100.  We have successfully sieved out all the nonprime numbers in the list, using just four sieving steps (and setting 0 and 1 to `None` manually).  \n",
        "\n",
        "But there's a lot of room for improvement, from beginning to end!\n",
        "\n",
        "1.  The format of the end result is not so nice.\n",
        "2.  We had to sieve each step manually.  It would be much better to have a function `prime_list(n)` which would output a list of primes up to `n` without so much supervision.\n",
        "3.  The memory usage will be large, if we need to store all the numbers up to a large `n` at the beginning.\n",
        "\n",
        "We solve these problems in the following way.\n",
        "\n",
        "1.  We will use a list of **booleans** rather than a list of numbers.  The ending list will have a `True` value at prime indices and a `False` value at composite indices.  This reduces the memory usage and increases the speed.  \n",
        "2.  A `which` function (explained soon) will make the desired list of primes after everything else is done.\n",
        "3.  We will proceed through the sieving steps algorithmically rather than entering each step manually.\n",
        "\n",
        "Here is a somewhat efficient implementation of the Sieve in Python."
      ]
    },
    {
      "cell_type": "code",
      "metadata": {
        "id": "HfOTwel_o1Nv"
      },
      "source": [
        "from math import sqrt\n",
        "def isprime_list(n):\n",
        "    ''' \n",
        "    Return a list of length n+1\n",
        "    with Trues at prime indices and Falses at composite indices.\n",
        "    '''\n",
        "    flags = [True] * (n+1)  # A list [True, True, True,...] to start.\n",
        "    flags[0] = False  # Zero is not prime.  So its flag is set to False.\n",
        "    flags[1] = False  # One is not prime.  So its flag is set to False.\n",
        "    p = 2  # The first prime is 2.  And we start sieving by multiples of 2.\n",
        "    \n",
        "    while p <= sqrt(n):  # We only need to sieve by p is p <= sqrt(n).\n",
        "        if flags[p]:  # We sieve the multiples of p if flags[p]=True.\n",
        "            flags[p*p::p] = [False] * len(flags[p*p::p]) # Sieves out multiples of p, starting at p*p.\n",
        "        p = p + 1 # Try the next value of p.\n",
        "        \n",
        "    return flags"
      ],
      "execution_count": 154,
      "outputs": []
    },
    {
      "cell_type": "code",
      "metadata": {
        "id": "eM2OGaymo1Nw",
        "colab": {
          "base_uri": "https://localhost:8080/"
        },
        "outputId": "5294e036-1bfc-4d19-8fcc-67202e69e83e"
      },
      "source": [
        "print(isprime_list(100))"
      ],
      "execution_count": 155,
      "outputs": [
        {
          "output_type": "stream",
          "name": "stdout",
          "text": [
            "[False, False, True, True, False, True, False, True, False, False, False, True, False, True, False, False, False, True, False, True, False, False, False, True, False, False, False, False, False, True, False, True, False, False, False, False, False, True, False, False, False, True, False, True, False, False, False, True, False, False, False, False, False, True, False, False, False, False, False, True, False, True, False, False, False, False, False, True, False, False, False, True, False, True, False, False, False, False, False, True, False, False, False, True, False, False, False, False, False, True, False, False, False, False, False, False, False, True, False, False, False]\n"
          ]
        }
      ]
    },
    {
      "cell_type": "markdown",
      "metadata": {
        "id": "73FT-HVIo1Nw"
      },
      "source": [
        "If you look carefully at the list of booleans, you will notice a `True` value at the 2nd index, the 3rd index, the 5th index, the 7th index, etc..  The indices where the values are `True` are precisely the **prime** indices.  Since booleans take the smallest amount of memory of any data type (one **bit** of memory per boolean), your computer can carry out the `isprime_list(n)` function even when `n` is very large.\n",
        "\n",
        "To be more precise, there are 8 bits in a **byte**.  There are 1024 bytes (about 1000) in a kilobyte.  There are 1024 kilobytes in a megabyte.  There are 1024 megabytes in a gigabyte.  Therefore, a gigabyte of memory is enough to store about 8 billion bits.  That's enough to store the result of `isprime_list(n)` when `n` is about 8 billion.  Not bad!  And your computer probably has 4 or 8 or 12 or 16 gigabytes of memory to use.\n",
        "\n"
      ]
    },
    {
      "cell_type": "markdown",
      "metadata": {
        "id": "TtTBE8U0o1Nw"
      },
      "source": [
        "To transform the list of booleans into a list of prime numbers, we create a function called `where`.  This function uses another Python technique called **list comprehension**.  We discuss this technique later in this lesson, so just use the `where` function as a tool for now, or [read about list comprehension](https://docs.python.org/2/tutorial/datastructures.html#list-comprehensions) if you're curious."
      ]
    },
    {
      "cell_type": "code",
      "metadata": {
        "id": "q_ZiUC2uo1Nw"
      },
      "source": [
        "def where(L):\n",
        "    '''\n",
        "    Take a list of booleans as input and\n",
        "    outputs the list of indices where True occurs.\n",
        "    '''\n",
        "    return [n for n in range(len(L)) if L[n]]\n",
        "    "
      ],
      "execution_count": 156,
      "outputs": []
    },
    {
      "cell_type": "markdown",
      "metadata": {
        "id": "_rkxdrhmo1Nw"
      },
      "source": [
        "Combined with the `isprime_list` function, we can produce long lists of primes."
      ]
    },
    {
      "cell_type": "code",
      "metadata": {
        "scrolled": true,
        "id": "MkA2LdBlo1Nw",
        "colab": {
          "base_uri": "https://localhost:8080/"
        },
        "outputId": "34234c81-7f15-4237-e1da-a293e1cc7da4"
      },
      "source": [
        "print(where(isprime_list(100)))"
      ],
      "execution_count": 157,
      "outputs": [
        {
          "output_type": "stream",
          "name": "stdout",
          "text": [
            "[2, 3, 5, 7, 11, 13, 17, 19, 23, 29, 31, 37, 41, 43, 47, 53, 59, 61, 67, 71, 73, 79, 83, 89, 97]\n"
          ]
        }
      ]
    },
    {
      "cell_type": "markdown",
      "metadata": {
        "id": "gy3KRYbAo1Nw"
      },
      "source": [
        "Let's push it a bit further.  How many primes are there between 1 and 1 million?  We can figure this out in three steps:\n",
        "\n",
        "1.  Create the isprime_list.\n",
        "2.  Use where to get the list of primes.\n",
        "3.  Find the length of the list of primes.\n",
        "\n",
        "But it's better to do it in two steps.\n",
        "\n",
        "1.  Create the isprime_list.\n",
        "2.  Sum the list!  (Note that `True` is 1, for the purpose of summation!)"
      ]
    },
    {
      "cell_type": "code",
      "metadata": {
        "id": "MpIGIxjro1Nw",
        "colab": {
          "base_uri": "https://localhost:8080/"
        },
        "outputId": "db8d5b98-5671-4dba-d465-8940cdbb0ac5"
      },
      "source": [
        "sum(isprime_list(1000000))  # The number of primes up to a million!"
      ],
      "execution_count": 158,
      "outputs": [
        {
          "output_type": "execute_result",
          "data": {
            "text/plain": [
              "78498"
            ]
          },
          "metadata": {},
          "execution_count": 158
        }
      ]
    },
    {
      "cell_type": "code",
      "metadata": {
        "id": "uQx3_5suo1Nw",
        "colab": {
          "base_uri": "https://localhost:8080/"
        },
        "outputId": "52118695-8a8f-4afa-e3fe-e4804d114dff"
      },
      "source": [
        "%timeit isprime_list(10**6)  # 1000 ms = 1 second."
      ],
      "execution_count": 159,
      "outputs": [
        {
          "output_type": "stream",
          "name": "stdout",
          "text": [
            "73.9 ms ± 11.5 ms per loop (mean ± std. dev. of 7 runs, 10 loops each)\n"
          ]
        }
      ]
    },
    {
      "cell_type": "code",
      "metadata": {
        "id": "Dy3dxyNCo1Nw",
        "colab": {
          "base_uri": "https://localhost:8080/"
        },
        "outputId": "09c1b4b1-44da-48ee-8575-a7c4dd7be9f7"
      },
      "source": [
        "%timeit sum(isprime_list(10**6))"
      ],
      "execution_count": 160,
      "outputs": [
        {
          "output_type": "stream",
          "name": "stdout",
          "text": [
            "107 ms ± 14.1 ms per loop (mean ± std. dev. of 7 runs, 10 loops each)\n"
          ]
        }
      ]
    },
    {
      "cell_type": "markdown",
      "metadata": {
        "id": "WiEYpMXUo1Nw"
      },
      "source": [
        "This isn't too bad!  It takes a fraction of a second to identify the primes up to a million, and a smaller fraction of a second to count them!  But we can do a little better.  \n",
        "\n",
        "The first improvement is to take care of the even numbers first.  If we count carefully, then the sequence 4,6,8,...,n (ending at n-1 if n is odd) has the floor of (n-2)/2 terms.  Thus the line `flags[4::2] = [False] * ((n-2)//2)` will set all the flags to False in the sequence 4,6,8,10,...  From there, we can begin sieving by *odd* primes starting with 3.\n",
        "\n",
        "The next improvement is that, since we've already sieved out all the even numbers (except 2), we don't have to sieve out again by *even multiples*.  So when sieving by multiples of 3, we don't have to sieve out 9,12,15,18,21,etc..  We can just sieve out 9,15,21,etc..  When `p` is an odd prime, this can be taken care of with the code `flags[p*p::2*p] = [False] * len(flags[p*p::2*p])`.  "
      ]
    },
    {
      "cell_type": "code",
      "metadata": {
        "id": "MBU0GJsSo1Nx"
      },
      "source": [
        "def isprime_list(n):\n",
        "    ''' \n",
        "    Return a list of length n+1\n",
        "    with Trues at prime indices and Falses at composite indices.\n",
        "    '''\n",
        "    flags = [True] * (n+1)  # A list [True, True, True,...] to start.\n",
        "    flags[0] = False  # Zero is not prime.  So its flag is set to False.\n",
        "    flags[1] = False  # One is not prime.  So its flag is set to False.\n",
        "    flags[4::2] = [False] * ((n-2)//2)\n",
        "    p = 3\n",
        "    while p <= sqrt(n):  # We only need to sieve by p is p <= sqrt(n).\n",
        "        if flags[p]:  # We sieve the multiples of p if flags[p]=True.\n",
        "            flags[p*p::2*p] = [False] * len(flags[p*p::2*p]) # Sieves out multiples of p, starting at p*p.\n",
        "        p = p + 2 # Try the next value of p.  Note that we can proceed only through odd p!\n",
        "        \n",
        "    return flags"
      ],
      "execution_count": 161,
      "outputs": []
    },
    {
      "cell_type": "code",
      "metadata": {
        "id": "gW6DlvCmo1Nx",
        "colab": {
          "base_uri": "https://localhost:8080/"
        },
        "outputId": "aa0e3336-9608-4ebd-f13b-2d650207587d"
      },
      "source": [
        "%timeit sum(isprime_list(10**6))  # How much did this speed it up?"
      ],
      "execution_count": 162,
      "outputs": [
        {
          "output_type": "stream",
          "name": "stdout",
          "text": [
            "65.4 ms ± 1.73 ms per loop (mean ± std. dev. of 7 runs, 10 loops each)\n"
          ]
        }
      ]
    },
    {
      "cell_type": "markdown",
      "metadata": {
        "id": "hiCV5pUEo1Nx"
      },
      "source": [
        "Another modest improvement is the following.  In the code above, the program *counts* the terms in sequences like 9,15,21,27,..., in order to set them to `False`.  This is accomplished with the length command `len(flags[p*p::2*p])`.  But that length computation is a bit too intensive.  A bit of algebraic work shows that the length is given formulaically in terms of `p` and `n` by the formula:  \n",
        "\n",
        "$$len = \\lfloor \\frac{n - p^2 - 1}{2p} \\rfloor + 1$$\n",
        "\n",
        "(Here $\\lfloor x \\rfloor$ denotes the floor function, i.e., the result of rounding down.)  Putting this into the code yields the following."
      ]
    },
    {
      "cell_type": "code",
      "metadata": {
        "id": "46RPEsKCo1Nx"
      },
      "source": [
        "def isprime_list(n):\n",
        "    ''' \n",
        "    Return a list of length n+1\n",
        "    with Trues at prime indices and Falses at composite indices.\n",
        "    '''\n",
        "    flags = [True] * (n+1)  # A list [True, True, True,...] to start.\n",
        "    flags[0] = False  # Zero is not prime.  So its flag is set to False.\n",
        "    flags[1] = False  # One is not prime.  So its flag is set to False.\n",
        "    flags[4::2] = [False] * ((n-2)//2)\n",
        "    p = 3\n",
        "    while p <= sqrt(n):  # We only need to sieve by p is p <= sqrt(n).\n",
        "        if flags[p]:  # We sieve the multiples of p if flags[p]=True.\n",
        "            flags[p*p::2*p] = [False] * ((n-p*p)//(2*p)+1) # Sieves out multiples of p, starting at p*p.\n",
        "        p = p + 2 # Try the next value of p.\n",
        "        \n",
        "    return flags"
      ],
      "execution_count": 163,
      "outputs": []
    },
    {
      "cell_type": "code",
      "metadata": {
        "id": "gMCxzJ8yo1Nx",
        "colab": {
          "base_uri": "https://localhost:8080/"
        },
        "outputId": "df113d37-24fb-4e77-899e-a805619bbb52"
      },
      "source": [
        "%timeit sum(isprime_list(10**6))  # How much did this speed it up?"
      ],
      "execution_count": 164,
      "outputs": [
        {
          "output_type": "stream",
          "name": "stdout",
          "text": [
            "59.9 ms ± 12.6 ms per loop (mean ± std. dev. of 7 runs, 10 loops each)\n"
          ]
        }
      ]
    },
    {
      "cell_type": "markdown",
      "metadata": {
        "id": "NT6XwvCJo1Nx"
      },
      "source": [
        "That should be pretty fast!  It should be under 100 ms (one tenth of one second!) to determine the primes up to a million, and on a newer computer it should be under 50ms.  We have gotten pretty close to the fastest algorithms that you can find in Python, without using external packages (like SAGE or sympy).  See the related [discussion on StackOverflow](https://stackoverflow.com/questions/2068372/fastest-way-to-list-all-primes-below-n)... the code in this lesson was influenced by the code presented there."
      ]
    },
    {
      "cell_type": "markdown",
      "metadata": {
        "id": "8Noiny4ho1Nx"
      },
      "source": [
        "### Exercises\n",
        "\n",
        "1.  Prove that the length of `range(p*p, n, 2*p)` equals $\\lfloor \\frac{n - p^2 - 1}{2p} \\rfloor + 1$.\n",
        "\n",
        "2.  A natural number $n$ is called squarefree if it has no perfect square divides $n$ except for 1.  Write a function `squarefree_list(n)` which outputs a list of booleans:  `True` if the index is squarefree and `False` if the index is not squarefree.  For example, if you execute `squarefree_list(12)`, the output should be `[False, True, True, True, False, True, True, True, False, False, True, True, False]`.  Note that the `False` entries are located the indices 0, 4, 8, 9, 12.  These natural numbers have perfect square divisors besides 1.  \n",
        "\n",
        "3.  Your DNA contains about 3 billion base pairs.  Each \"base pair\" can be thought of as a letter, A, T, G, or C.  How many bits would be required to store a single base pair?  In other words, how might you convert a sequence of booleans into a letter A,T,G, or C?  Given this, how many megabytes or gigabytes are required to store your DNA?  How many people's DNA would fit on a thumb-drive?"
      ]
    },
    {
      "cell_type": "markdown",
      "source": [
        "### Solutions ###\n",
        "\n",
        "1. Let's prove that `range(p*p,n,2*p)` equals $\\lfloor{\\frac{n-p^2-1}{2p}}\\rfloor+1$. We start by writing our terms in a list: $$p^2,p^2+2p,p^2+4p, \\cdots, n-1$$ Let's subtract each term by $p^2$ so it starts at zero and removes each $p^2$ term.\n",
        "$$0,2p,4p, \\cdots, n-p^2-1$$ Now we divide each term by $2p$, remember to take the floor of the last term because we can't have a fraction of a term. $$0,1,2, \\cdots, \\lfloor{\\frac{n-p^2-1}{2p}}\\rfloor$$ Now we have each term, numbered from zero to the last, so let's add one to the last term to get our total, since we started at zero. $$\\lfloor{\\frac{n-p^2-1}{2p}}\\rfloor+1$$\n",
        " And we are done.\n",
        "\n",
        "2. See code below.\n",
        "3. You could represent each base pair of DNA as two booleans or 2 bits. For example, 00 could be A,01 could be T,10 could be G, and 11 could be C, and likewise for booleans. Each pair has 2 bits so 3 billion pairs would be 6 billion bits or about 750 MB. thumb-drives vary in size but a google search said that 8 GB was common. So about 10-12 peoples' DNA could be stored on the drive. It's worth noting that I'm not sure exactly how this would work in python specfically because when you make a list python adds other memory and not just the indices. For example the list `[True]` takes up 64 bytes."
      ],
      "metadata": {
        "id": "ilIKAgNumw8y"
      }
    },
    {
      "cell_type": "code",
      "source": [
        "def squarefree_list(n): # exercise 2\n",
        "    flags = [True] * (n+1)  \n",
        "    flags[0] = False\n",
        "    flags[1]= True\n",
        "    p = 2  \n",
        "    while p*p <= n:\n",
        "        if flags[p*p]:\n",
        "          flags[p*p::p*p]=[False]*len(flags[p*p::p*p])\n",
        "        p = p + 1\n",
        "    return flags"
      ],
      "metadata": {
        "id": "jz3-42_-mwRR"
      },
      "execution_count": 165,
      "outputs": []
    },
    {
      "cell_type": "code",
      "source": [
        "squarefree_list(12)"
      ],
      "metadata": {
        "id": "QUbKckMe1xzo",
        "colab": {
          "base_uri": "https://localhost:8080/"
        },
        "outputId": "e87ad8e5-86c0-448a-af19-2f918c4c932d"
      },
      "execution_count": 166,
      "outputs": [
        {
          "output_type": "execute_result",
          "data": {
            "text/plain": [
              "[False,\n",
              " True,\n",
              " True,\n",
              " True,\n",
              " False,\n",
              " True,\n",
              " True,\n",
              " True,\n",
              " False,\n",
              " False,\n",
              " True,\n",
              " True,\n",
              " False]"
            ]
          },
          "metadata": {},
          "execution_count": 166
        }
      ]
    },
    {
      "cell_type": "code",
      "source": [
        "print(where(squarefree_list(100)))"
      ],
      "metadata": {
        "id": "ew85ZvJ_zVVK",
        "colab": {
          "base_uri": "https://localhost:8080/"
        },
        "outputId": "d6c707be-2503-48fb-cb4e-5a10f4aed506"
      },
      "execution_count": 167,
      "outputs": [
        {
          "output_type": "stream",
          "name": "stdout",
          "text": [
            "[1, 2, 3, 5, 6, 7, 10, 11, 13, 14, 15, 17, 19, 21, 22, 23, 26, 29, 30, 31, 33, 34, 35, 37, 38, 39, 41, 42, 43, 46, 47, 51, 53, 55, 57, 58, 59, 61, 62, 65, 66, 67, 69, 70, 71, 73, 74, 77, 78, 79, 82, 83, 85, 86, 87, 89, 91, 93, 94, 95, 97]\n"
          ]
        }
      ]
    },
    {
      "cell_type": "code",
      "source": [
        "import sys\n",
        "sys.getsizeof([True])"
      ],
      "metadata": {
        "id": "Xr3FFBqB4I19",
        "colab": {
          "base_uri": "https://localhost:8080/"
        },
        "outputId": "94c65a33-a840-4d41-8f70-0f41aced43f7"
      },
      "execution_count": 168,
      "outputs": [
        {
          "output_type": "execute_result",
          "data": {
            "text/plain": [
              "64"
            ]
          },
          "metadata": {},
          "execution_count": 168
        }
      ]
    },
    {
      "cell_type": "markdown",
      "metadata": {
        "id": "hXac_vzPo1Nx"
      },
      "source": [
        "<a id='analysis'></a>"
      ]
    },
    {
      "cell_type": "markdown",
      "metadata": {
        "id": "tuP5axz9o1Nx"
      },
      "source": [
        "## Data analysis"
      ]
    },
    {
      "cell_type": "markdown",
      "metadata": {
        "id": "41IrhAupo1Nx"
      },
      "source": [
        "Now that we can produce a list of prime numbers quickly, we can do some data analysis:  some experimental number theory to look for trends or patterns in the sequence of prime numbers.  Since Euclid (about 300 BCE), we have known that there are infinitely many prime numbers.  But how are they distributed?  What proportion of numbers are prime, and how does this proportion change over different ranges?  As theoretical questions, these belong the the field of analytic number theory.  But it is hard to know what to prove without doing a bit of experimentation.  And so, at least since Gauss [(read Tschinkel's article about Gauss's tables)](http://www.ams.org/journals/bull/2006-43-01/S0273-0979-05-01096-7/S0273-0979-05-01096-7.pdf) started examining his extensive tables of prime numbers, mathematicians have been carrying out experimental number theory."
      ]
    },
    {
      "cell_type": "markdown",
      "metadata": {
        "id": "ZE0QFlwYo1Ny"
      },
      "source": [
        "### Analyzing the list of primes\n",
        "\n",
        "Let's begin by creating our data set:  the prime numbers up to 1 million."
      ]
    },
    {
      "cell_type": "code",
      "metadata": {
        "id": "9HB_PuBXo1Ny"
      },
      "source": [
        "primes = where(isprime_list(1000000))"
      ],
      "execution_count": 169,
      "outputs": []
    },
    {
      "cell_type": "code",
      "metadata": {
        "id": "bdr1hcP0o1Ny",
        "colab": {
          "base_uri": "https://localhost:8080/"
        },
        "outputId": "f5cecd74-34e1-44ff-f177-3256cd9ab887"
      },
      "source": [
        "len(primes) # Our population size.  A statistician might call it N."
      ],
      "execution_count": 170,
      "outputs": [
        {
          "output_type": "execute_result",
          "data": {
            "text/plain": [
              "78498"
            ]
          },
          "metadata": {},
          "execution_count": 170
        }
      ]
    },
    {
      "cell_type": "code",
      "metadata": {
        "id": "wJs6DNcBo1Ny",
        "colab": {
          "base_uri": "https://localhost:8080/"
        },
        "outputId": "29e497f1-ba63-46bf-8188-63cfc1aa54ca"
      },
      "source": [
        "primes[-1]  # The last prime in our list, just before one million."
      ],
      "execution_count": 171,
      "outputs": [
        {
          "output_type": "execute_result",
          "data": {
            "text/plain": [
              "999983"
            ]
          },
          "metadata": {},
          "execution_count": 171
        }
      ]
    },
    {
      "cell_type": "code",
      "metadata": {
        "scrolled": true,
        "id": "7geu3XMoo1Ny",
        "colab": {
          "base_uri": "https://localhost:8080/"
        },
        "outputId": "a546f8d8-33f3-42de-8ac6-bd9f6538173e"
      },
      "source": [
        "type(primes) # What type is this data?"
      ],
      "execution_count": 172,
      "outputs": [
        {
          "output_type": "execute_result",
          "data": {
            "text/plain": [
              "list"
            ]
          },
          "metadata": {},
          "execution_count": 172
        }
      ]
    },
    {
      "cell_type": "code",
      "metadata": {
        "id": "siBIu-IGo1Ny",
        "colab": {
          "base_uri": "https://localhost:8080/"
        },
        "outputId": "c8692d74-de77-4624-8eb6-16044ee52077"
      },
      "source": [
        "print(primes[:100]) # The first hundred prime numbers."
      ],
      "execution_count": 173,
      "outputs": [
        {
          "output_type": "stream",
          "name": "stdout",
          "text": [
            "[2, 3, 5, 7, 11, 13, 17, 19, 23, 29, 31, 37, 41, 43, 47, 53, 59, 61, 67, 71, 73, 79, 83, 89, 97, 101, 103, 107, 109, 113, 127, 131, 137, 139, 149, 151, 157, 163, 167, 173, 179, 181, 191, 193, 197, 199, 211, 223, 227, 229, 233, 239, 241, 251, 257, 263, 269, 271, 277, 281, 283, 293, 307, 311, 313, 317, 331, 337, 347, 349, 353, 359, 367, 373, 379, 383, 389, 397, 401, 409, 419, 421, 431, 433, 439, 443, 449, 457, 461, 463, 467, 479, 487, 491, 499, 503, 509, 521, 523, 541]\n"
          ]
        }
      ]
    },
    {
      "cell_type": "markdown",
      "metadata": {
        "id": "A6j9MmSGo1Ny"
      },
      "source": [
        "To carry out serious analysis, we will use the method of **list comprehension** to place our population into \"bins\" for statistical analysis.  Our first type of list comprehension has the form `[x for x in LIST if CONDITION]`.  This produces the list of all elements of LIST satisfying CONDITION.  It is similar to list slicing, except we pull out terms from the list according to whether a condition is true or false.\n",
        "\n",
        "For example, let's divide the (odd) primes into two classes.  Red primes will be those of the form 4n+1.  Blue primes will be those of the form 4n+3.  In other words, a prime `p` is red if `p%4 == 1` and blue if `p%4 == 3`.  And the prime 2 is neither red nor blue."
      ]
    },
    {
      "cell_type": "code",
      "metadata": {
        "id": "bINic7Ceo1Ny",
        "colab": {
          "base_uri": "https://localhost:8080/"
        },
        "outputId": "cdf2a2cc-ed3e-43ab-cbaa-7e6f878b7a7e"
      },
      "source": [
        "redprimes = [p for p in primes if p%4 == 1] # Note the [x for x in LIST if CONDITION] syntax.\n",
        "blueprimes = [p for p in primes if p%4 == 3]\n",
        "\n",
        "print('Red primes:',redprimes[:20]) # The first 20 red primes.\n",
        "print('Blue primes:',blueprimes[:20]) # The first 20 blue primes."
      ],
      "execution_count": 174,
      "outputs": [
        {
          "output_type": "stream",
          "name": "stdout",
          "text": [
            "Red primes: [5, 13, 17, 29, 37, 41, 53, 61, 73, 89, 97, 101, 109, 113, 137, 149, 157, 173, 181, 193]\n",
            "Blue primes: [3, 7, 11, 19, 23, 31, 43, 47, 59, 67, 71, 79, 83, 103, 107, 127, 131, 139, 151, 163]\n"
          ]
        }
      ]
    },
    {
      "cell_type": "code",
      "metadata": {
        "id": "XXK10HG4o1Ny",
        "colab": {
          "base_uri": "https://localhost:8080/"
        },
        "outputId": "2bc2c1b6-7c9b-40fb-c770-df139a79a5f5"
      },
      "source": [
        "print(\"There are {} red primes and {} blue primes, up to 1 million.\".format(len(redprimes), len(blueprimes)))"
      ],
      "execution_count": 175,
      "outputs": [
        {
          "output_type": "stream",
          "name": "stdout",
          "text": [
            "There are 39175 red primes and 39322 blue primes, up to 1 million.\n"
          ]
        }
      ]
    },
    {
      "cell_type": "markdown",
      "metadata": {
        "id": "EMVjQlHuo1Ny"
      },
      "source": [
        "This is pretty close!  It seems like prime numbers are about evenly distributed between red and blue.  Their remainder after division by 4 is about as likely to be 1 as it is to be 3.  In fact, it is proven that *asymptotically* the ratio between the number of red primes and the number of blue primes approaches 1.  However, Chebyshev noticed a persistent slight bias towards blue primes along the way."
      ]
    },
    {
      "cell_type": "markdown",
      "metadata": {
        "id": "iBN5IBLwo1Ny"
      },
      "source": [
        "Some of the deepest conjectures in mathematics relate to the [prime counting function](https://en.wikipedia.org/wiki/Prime-counting_function) $\\pi(x)$.  Here $\\pi(x)$ is the **number of primes** between 1 and $x$ (inclusive).  So $\\pi(2) = 1$ and $\\pi(3) = 2$ and $\\pi(4) = 2$ and $\\pi(5) = 3$.  One can compute a value of $\\pi(x)$ pretty easily using a list comprehension.\n",
        "\n"
      ]
    },
    {
      "cell_type": "code",
      "metadata": {
        "id": "oFK7OGHoo1Nz"
      },
      "source": [
        "def primes_upto(x):\n",
        "    return len([p for p in primes if p <= x]) # List comprehension recovers the primes up to x."
      ],
      "execution_count": 176,
      "outputs": []
    },
    {
      "cell_type": "code",
      "metadata": {
        "id": "eCi28UhMo1Nz",
        "colab": {
          "base_uri": "https://localhost:8080/"
        },
        "outputId": "bf9df899-9a12-4a58-fed0-218271215aad"
      },
      "source": [
        "primes_upto(1000)  # There are 168 primes between 1 and 1000."
      ],
      "execution_count": 177,
      "outputs": [
        {
          "output_type": "execute_result",
          "data": {
            "text/plain": [
              "168"
            ]
          },
          "metadata": {},
          "execution_count": 177
        }
      ]
    },
    {
      "cell_type": "markdown",
      "metadata": {
        "id": "ZlnkhYw7o1Nz"
      },
      "source": [
        "Now we graph the prime counting function.  To do this, we use a list comprehension, and the visualization library called matplotlib.  For graphing a function, the basic idea is to create a list of x-values, a list of corresponding y-values (so the lists have to be the same length!), and then we feed the two lists into matplotlib to make the graph.\n",
        "\n",
        "We begin by loading the necessary packages."
      ]
    },
    {
      "cell_type": "code",
      "metadata": {
        "id": "cvVF2M5Go1Nz"
      },
      "source": [
        "import matplotlib  #  A powerful graphics package.\n",
        "import numpy  #  A math package\n",
        "import matplotlib.pyplot as plt  # A plotting subpackage in matplotlib."
      ],
      "execution_count": 178,
      "outputs": []
    },
    {
      "cell_type": "markdown",
      "metadata": {
        "id": "-iouxGxro1Nz"
      },
      "source": [
        "Now let's graph the function $y = x^2$ over the domain $-2 \\leq x \\leq 2$ for practice.  As a first step, we use numpy's `linspace` function to create an evenly spaced set of 11 x-values between -2 and 2."
      ]
    },
    {
      "cell_type": "code",
      "metadata": {
        "id": "n7oh0AAAo1Nz",
        "colab": {
          "base_uri": "https://localhost:8080/"
        },
        "outputId": "1be7069a-457c-4ff6-b0bd-8bcb3969aed4"
      },
      "source": [
        "x_values = numpy.linspace(-2,2,11)  # The argument 11 is the *number* of terms, not the step size!\n",
        "print(x_values)\n",
        "type(x_values)"
      ],
      "execution_count": 179,
      "outputs": [
        {
          "output_type": "stream",
          "name": "stdout",
          "text": [
            "[-2.  -1.6 -1.2 -0.8 -0.4  0.   0.4  0.8  1.2  1.6  2. ]\n"
          ]
        },
        {
          "output_type": "execute_result",
          "data": {
            "text/plain": [
              "numpy.ndarray"
            ]
          },
          "metadata": {},
          "execution_count": 179
        }
      ]
    },
    {
      "cell_type": "markdown",
      "metadata": {
        "id": "idcqPGZ0o1Nz"
      },
      "source": [
        "You might notice that the format looks a bit different from a list.  Indeed, if you check `type(x_values)`, it's not a list but something else called a numpy array.  Numpy is a package that excels with computations on large arrays of data.  On the surface, it's not so different from a list.  The `numpy.linspace` command is a convenient way of producing an evenly spaced list of inputs.\n",
        "\n",
        "The big difference is that operations on numpy arrays are interpreted differently than operations on ordinary Python lists.  Try the two commands for comparison."
      ]
    },
    {
      "cell_type": "code",
      "metadata": {
        "id": "5LjKKSeZo1Nz",
        "colab": {
          "base_uri": "https://localhost:8080/"
        },
        "outputId": "ccfe54b3-72b7-4e3a-c75e-b05319218d71"
      },
      "source": [
        "[1,2,3] + [1,2,3]"
      ],
      "execution_count": 180,
      "outputs": [
        {
          "output_type": "execute_result",
          "data": {
            "text/plain": [
              "[1, 2, 3, 1, 2, 3]"
            ]
          },
          "metadata": {},
          "execution_count": 180
        }
      ]
    },
    {
      "cell_type": "code",
      "metadata": {
        "id": "qZFk1LBJo1Nz",
        "colab": {
          "base_uri": "https://localhost:8080/"
        },
        "outputId": "c93bcf41-b14d-441f-f0b5-e423fdf71620"
      },
      "source": [
        "x_values + x_values"
      ],
      "execution_count": 181,
      "outputs": [
        {
          "output_type": "execute_result",
          "data": {
            "text/plain": [
              "array([-4. , -3.2, -2.4, -1.6, -0.8,  0. ,  0.8,  1.6,  2.4,  3.2,  4. ])"
            ]
          },
          "metadata": {},
          "execution_count": 181
        }
      ]
    },
    {
      "cell_type": "code",
      "metadata": {
        "id": "LyesLSuPo1N0",
        "colab": {
          "base_uri": "https://localhost:8080/"
        },
        "outputId": "c11f64c1-67ab-417c-adbe-7f64b31ee0db"
      },
      "source": [
        "y_values = x_values * x_values  # How is multiplication interpreted on numpy arrays?\n",
        "print(y_values)"
      ],
      "execution_count": 182,
      "outputs": [
        {
          "output_type": "stream",
          "name": "stdout",
          "text": [
            "[4.   2.56 1.44 0.64 0.16 0.   0.16 0.64 1.44 2.56 4.  ]\n"
          ]
        }
      ]
    },
    {
      "cell_type": "markdown",
      "metadata": {
        "id": "uAFegDVTo1N0"
      },
      "source": [
        "Now we use matplotlib to create a simple line graph."
      ]
    },
    {
      "cell_type": "code",
      "metadata": {
        "id": "tjB51noto1N0",
        "colab": {
          "base_uri": "https://localhost:8080/",
          "height": 299
        },
        "outputId": "0b09db37-0f7f-4b78-8aa9-1d0e2fc42b10"
      },
      "source": [
        "%matplotlib inline\n",
        "plt.plot(x_values, y_values)\n",
        "plt.title('The graph of $y = x^2$')  # The dollar signs surround the formula, in LaTeX format.\n",
        "plt.ylabel('y')\n",
        "plt.xlabel('x')\n",
        "plt.grid(True)\n",
        "plt.show()\n"
      ],
      "execution_count": 183,
      "outputs": [
        {
          "output_type": "display_data",
          "data": {
            "text/plain": [
              "<Figure size 432x288 with 1 Axes>"
            ],
            "image/png": "[encoded data removed]"
          },
          "metadata": {
            "needs_background": "light"
          }
        }
      ]
    },
    {
      "cell_type": "markdown",
      "metadata": {
        "id": "9Wg3S1WTo1N0"
      },
      "source": [
        "Let's analyze the graphing code a bit more.  See the [official pyplot tutorial](https://matplotlib.org/users/pyplot_tutorial.html) for more details.  \n",
        "```python\n",
        "%matplotlib inline\n",
        "plt.plot(x_values, y_values)\n",
        "plt.title('The graph of $y = x^2$')  # The dollar signs surround the formula, in LaTeX format.\n",
        "plt.ylabel('y')\n",
        "plt.xlabel('x')\n",
        "plt.grid(True)\n",
        "plt.show()\n",
        "```\n",
        "The first line contains the **magic** `%matplotlib inline`.  We have seen a magic word before, in `%timeit`.  [Magic words](http://ipython.readthedocs.io/en/stable/interactive/magics.html) can call another program to assist.  So here, the magic `%matplotlib inline` calls matplotlib for help, and places the resulting figure within the notebook.\n",
        "\n",
        "The next line `plt.plot(x_values, y_values)` creates a `plot object` based on the data of the x-values and y-values.  It is an abstract sort of object, behind the scenes, in a format that matplotlib understands.  The following lines set the title of the plot, the axis labels, and turns a grid on.  The last line `plt.show` renders the plot as an image in your notebook.  There's an infinite variety of graphs that matplotlib can produce -- see [the gallery](https://matplotlib.org/gallery.html) for more!  Other graphics packages include [bokeh](http://bokeh.pydata.org/en/latest/) and [seaborn](http://seaborn.pydata.org/), which extends matplotlib."
      ]
    },
    {
      "cell_type": "markdown",
      "metadata": {
        "id": "b0yTOq4-o1N0"
      },
      "source": [
        "### Analysis of the prime counting function\n",
        "\n",
        "Now, to analyze the prime counting function, let's graph it.  To make a graph, we will first need a list of many values of x and many corresponding values of $\\pi(x)$.  We do this with two commands.  The first might take a minute to compute."
      ]
    },
    {
      "cell_type": "code",
      "metadata": {
        "id": "gnKV26bno1N0"
      },
      "source": [
        "x_values = numpy.linspace(0,1000000,1001) # The numpy array [0,1000,2000,3000,...,1000000]\n",
        "pix_values = numpy.array([primes_upto(x) for x in x_values])  # [FUNCTION(x) for x in LIST] syntax"
      ],
      "execution_count": 184,
      "outputs": []
    },
    {
      "cell_type": "markdown",
      "metadata": {
        "id": "aqlila-uo1N0"
      },
      "source": [
        "We created an array of x-values as before.  But the creation of an array of y-values (here, called `pix_values` to stand for $\\pi(x)$) probably looks strange.  We have done two new things!\n",
        "\n",
        "1.  We have used a list comprehension `[primes_upto(x) for x in x_values]` to create a **list** of y-values.\n",
        "2.  We have used numpy.array(LIST) syntax to convert a Python list into a numpy array.\n",
        "\n",
        "First, we explain the list comprehension.  Instead of pulling out values of a list according to a condition, with `[x for x in LIST if CONDITION]`, we have created a new list based on performing a function each element of a list.  The syntax, used above, is `[FUNCTION(x) for x in LIST]`.  These two methods of list comprehension can be combined, in fact.  The most general syntax for list comprehension is `[FUNCTION(x) for x in LIST if CONDITION]`.\n",
        "\n",
        "Second, a list comprehension can be carried out on a numpy array, but the result is a plain Python list.  It will be better to have a numpy array instead for what follows, so we use the `numpy.array()` function to convert the list into a numpy array."
      ]
    },
    {
      "cell_type": "code",
      "metadata": {
        "id": "i2DlTbsho1N0",
        "colab": {
          "base_uri": "https://localhost:8080/"
        },
        "outputId": "249d85ff-5d7c-4b57-cbb7-b5351f888634"
      },
      "source": [
        "type(numpy.array([1,2,3]))  # For example."
      ],
      "execution_count": 185,
      "outputs": [
        {
          "output_type": "execute_result",
          "data": {
            "text/plain": [
              "numpy.ndarray"
            ]
          },
          "metadata": {},
          "execution_count": 185
        }
      ]
    },
    {
      "cell_type": "markdown",
      "metadata": {
        "id": "BMmq8Fx4o1N0"
      },
      "source": [
        "Now we have two numpy arrays:  the array of x-values and the array of y-values.  We can make a plot with matplotlib."
      ]
    },
    {
      "cell_type": "code",
      "metadata": {
        "id": "Cq5kg4HPo1N0",
        "colab": {
          "base_uri": "https://localhost:8080/"
        },
        "outputId": "e674a7df-5a21-4425-a946-81d079d9ce3e"
      },
      "source": [
        "len(x_values) == len(pix_values)  # These better be the same, or else matplotlib will be unhappy."
      ],
      "execution_count": 186,
      "outputs": [
        {
          "output_type": "execute_result",
          "data": {
            "text/plain": [
              "True"
            ]
          },
          "metadata": {},
          "execution_count": 186
        }
      ]
    },
    {
      "cell_type": "code",
      "metadata": {
        "id": "DEfDVt9Wo1N0",
        "colab": {
          "base_uri": "https://localhost:8080/",
          "height": 295
        },
        "outputId": "b351d45c-3869-43e5-f66a-5532404cadc1"
      },
      "source": [
        "%matplotlib inline\n",
        "plt.plot(x_values, pix_values)\n",
        "plt.title('The prime counting function')\n",
        "plt.ylabel('$\\pi(x)$')\n",
        "plt.xlabel('x')\n",
        "plt.grid(True)\n",
        "plt.show()"
      ],
      "execution_count": 187,
      "outputs": [
        {
          "output_type": "display_data",
          "data": {
            "text/plain": [
              "<Figure size 432x288 with 1 Axes>"
            ],
            "image/png": "[encoded data removed]"
          },
          "metadata": {
            "needs_background": "light"
          }
        }
      ]
    },
    {
      "cell_type": "markdown",
      "metadata": {
        "id": "R7djMP0do1N1"
      },
      "source": [
        "In this range, the prime counting function might look nearly linear.  But if you look closely, there's a subtle downward bend.  This is more pronounced in smaller ranges.  For example, let's look at the first 10 x-values and y-values only."
      ]
    },
    {
      "cell_type": "code",
      "metadata": {
        "id": "oTPTeUX4o1N1",
        "colab": {
          "base_uri": "https://localhost:8080/",
          "height": 295
        },
        "outputId": "dbaf46a7-d461-4c85-fad8-cb4593ed15d6"
      },
      "source": [
        "%matplotlib inline\n",
        "plt.plot(x_values[:10], pix_values[:10])  # Look closer to 0.\n",
        "plt.title('The prime counting function')\n",
        "plt.ylabel('$\\pi(x)$')\n",
        "plt.xlabel('x')\n",
        "plt.grid(True)\n",
        "plt.show()"
      ],
      "execution_count": 188,
      "outputs": [
        {
          "output_type": "display_data",
          "data": {
            "text/plain": [
              "<Figure size 432x288 with 1 Axes>"
            ],
            "image/png": "[encoded data removed]"
          },
          "metadata": {
            "needs_background": "light"
          }
        }
      ]
    },
    {
      "cell_type": "markdown",
      "metadata": {
        "id": "EnrdVEyCo1N1"
      },
      "source": [
        "It still looks almost linear, but there's a visible downward bend here.  How can we see this bend more clearly?  If the graph were linear, its equation would have the form $\\pi(x) = mx$ for some fixed slope $m$ (since the graph *does* pass through the origin).  Therefore, the quantity $\\pi(x)/x$ would be *constant* if the graph were linear.  \n",
        "\n",
        "Hence, if we graph $\\pi(x) / x$ on the y-axis and $x$ on the x-axis, and the result is nonconstant, then the function $\\pi(x)$ is nonlinear."
      ]
    },
    {
      "cell_type": "code",
      "metadata": {
        "id": "ZgRF7b2Ko1N1"
      },
      "source": [
        "m_values = pix_values[1:] / x_values[1:]  # We start at 1, to avoid a division by zero error."
      ],
      "execution_count": 189,
      "outputs": []
    },
    {
      "cell_type": "code",
      "metadata": {
        "id": "-grvUV4so1N1",
        "colab": {
          "base_uri": "https://localhost:8080/",
          "height": 297
        },
        "outputId": "9729b994-589b-4b6b-d6af-7237f08b87e7"
      },
      "source": [
        "%matplotlib inline\n",
        "plt.plot(x_values[1:], m_values)\n",
        "plt.title('The ratio $\\pi(x) / x$ as $x$ varies.')\n",
        "plt.xlabel('x')\n",
        "plt.ylabel('$\\pi(x) / x$')\n",
        "plt.grid(True)\n",
        "plt.show()"
      ],
      "execution_count": 190,
      "outputs": [
        {
          "output_type": "display_data",
          "data": {
            "text/plain": [
              "<Figure size 432x288 with 1 Axes>"
            ],
            "image/png": "[encoded data removed]"
          },
          "metadata": {
            "needs_background": "light"
          }
        }
      ]
    },
    {
      "cell_type": "markdown",
      "metadata": {
        "id": "HwGVsVlxo1N1"
      },
      "source": [
        "That is certainly not constant!  The decay of $\\pi(x) / x$ is not so different from $1 / \\log(x)$, in fact.  To see this, let's overlay the graphs.  We use the `numpy.log` function, which computes the natural logarithm of its input (and allows an entire array as input)."
      ]
    },
    {
      "cell_type": "code",
      "metadata": {
        "id": "YlSSqcDko1N1",
        "colab": {
          "base_uri": "https://localhost:8080/",
          "height": 297
        },
        "outputId": "c2c7565d-01d0-481f-a808-057d42e317af"
      },
      "source": [
        "%matplotlib inline\n",
        "plt.plot(x_values[1:], m_values, label='$\\pi(x)/x$')  # The same as the plot above.\n",
        "plt.plot(x_values[1:], 1 / numpy.log(x_values[1:]), label='$1 / \\log(x)$')  # Overlay the graph of 1 / log(x)\n",
        "plt.title('The ratio of $\\pi(x) / x$ as $x$ varies.')\n",
        "plt.xlabel('x')\n",
        "plt.ylabel('$\\pi(x) / x$')\n",
        "plt.grid(True)\n",
        "plt.legend()  # Turn on the legend.\n",
        "plt.show()"
      ],
      "execution_count": 191,
      "outputs": [
        {
          "output_type": "display_data",
          "data": {
            "text/plain": [
              "<Figure size 432x288 with 1 Axes>"
            ],
            "image/png": "[encoded data removed]"
          },
          "metadata": {
            "needs_background": "light"
          }
        }
      ]
    },
    {
      "cell_type": "markdown",
      "metadata": {
        "id": "zrPg3i8-o1N1"
      },
      "source": [
        "The shape of the decay of $\\pi(x) / x$ is very close to $1 / \\log(x)$, but it looks like there is an offset.  In fact, there is, and it is pretty close to $1 / \\log(x)^2$.  And that is close, but again there's another little offset, this time proportional to $2 / \\log(x)^3$.  This goes on forever, if one wishes to approximate $\\pi(x) / x$ by an \"asymptotic expansion\" (not a good idea, it turns out).\n",
        "\n",
        "The closeness of $\\pi(x) / x$ to $1 / \\log(x)$ is expressed in the **prime number theorem**:\n",
        "$$\\lim_{x \\rightarrow \\infty} \\frac{\\pi(x)}{x / \\log(x)} = 1.$$"
      ]
    },
    {
      "cell_type": "code",
      "metadata": {
        "id": "NWQ3CIVwo1N1",
        "colab": {
          "base_uri": "https://localhost:8080/",
          "height": 297
        },
        "outputId": "99b1cd11-36a5-43fd-c446-e7d6ad0350f8"
      },
      "source": [
        "%matplotlib inline\n",
        "plt.plot(x_values[1:], m_values * numpy.log(x_values[1:])  )  # Should get closer to 1.\n",
        "plt.title('The ratio $\\pi(x) / (x / \\log(x))$ approaches 1... slowly')\n",
        "plt.xlabel('x')\n",
        "plt.ylabel('$\\pi(x) / (x / \\log(x)) $')\n",
        "plt.ylim(0.8,1.2)\n",
        "plt.grid(True)\n",
        "plt.show()"
      ],
      "execution_count": 192,
      "outputs": [
        {
          "output_type": "display_data",
          "data": {
            "text/plain": [
              "<Figure size 432x288 with 1 Axes>"
            ],
            "image/png": "[encoded data removed]"
          },
          "metadata": {
            "needs_background": "light"
          }
        }
      ]
    },
    {
      "cell_type": "markdown",
      "metadata": {
        "id": "X6ELoOO-o1N1"
      },
      "source": [
        "Comparing the graph to the theoretical result, we find that the ratio $\\pi(x) / (x / \\log(x))$ approaches $1$ (the theoretical result) but very slowly (see the graph above!)."
      ]
    },
    {
      "cell_type": "markdown",
      "metadata": {
        "id": "aqXOKRako1N1"
      },
      "source": [
        "A much stronger result relates $\\pi(x)$ to the \"logarithmic integral\" $li(x)$.  The [Riemann hypothesis](http://www.claymath.org/millennium-problems/riemann-hypothesis) is equivalent to the statement\n",
        "$$\\left\\vert \\pi(x) - li(x) \\right\\vert = O(\\sqrt{x} \\log(x)).$$\n",
        "In other words, the error if one approximates $\\pi(x)$ by $li(x)$ is bounded by a constant times $\\sqrt{x} \\log(x)$.  The logarithmic integral function isn't part of Python or numpy, but it is in the mpmath package.  If you have this package installed, then you can try the following."
      ]
    },
    {
      "cell_type": "code",
      "metadata": {
        "id": "KqOcdcCjo1N2"
      },
      "source": [
        "from mpmath import li"
      ],
      "execution_count": 193,
      "outputs": []
    },
    {
      "cell_type": "code",
      "metadata": {
        "id": "Pgee6LGxo1N2",
        "colab": {
          "base_uri": "https://localhost:8080/"
        },
        "outputId": "54ad9d50-c167-457d-9e69-43890896af93"
      },
      "source": [
        "print(primes_upto(1000000))  # The number of primes up to 1 million.\n",
        "print(li(1000000))  # The logarithmic integral of 1 million."
      ],
      "execution_count": 194,
      "outputs": [
        {
          "output_type": "stream",
          "name": "stdout",
          "text": [
            "78498\n",
            "78627.5491594622\n"
          ]
        }
      ]
    },
    {
      "cell_type": "markdown",
      "metadata": {
        "id": "8Ak3l_pPo1N2"
      },
      "source": [
        "Not too shabby!"
      ]
    },
    {
      "cell_type": "markdown",
      "metadata": {
        "id": "Sp7gn8eto1N2"
      },
      "source": [
        "### Prime gaps\n",
        "\n",
        "As a last bit of data analysis, we consider the **prime gaps**.  These are the numbers that occur as differences between consecutive primes.  Since all primes except 2 are odd, all prime gaps are even except for the 1-unit gap between 2 and 3.  There are many unsolved problems about prime gaps; the most famous might be that a gap of 2 occurs infinitely often (as in the gaps between 3,5 and between 11,13 and between 41,43, etc.).\n",
        "\n",
        "Once we have our data set of prime numbers, it is not hard to create a data set of prime gaps.  Recall that `primes` is our list of prime numbers up to 1 million."
      ]
    },
    {
      "cell_type": "code",
      "metadata": {
        "id": "NHd3eV32o1N2",
        "colab": {
          "base_uri": "https://localhost:8080/"
        },
        "outputId": "46953761-6060-4bbf-f87e-1441a7e3bc34"
      },
      "source": [
        "len(primes) # The number of primes up to 1 million."
      ],
      "execution_count": 195,
      "outputs": [
        {
          "output_type": "execute_result",
          "data": {
            "text/plain": [
              "78498"
            ]
          },
          "metadata": {},
          "execution_count": 195
        }
      ]
    },
    {
      "cell_type": "code",
      "metadata": {
        "id": "XHc6S5mzo1N2"
      },
      "source": [
        "primes_allbutlast = primes[:-1]  # This excludes the last prime in the list.\n",
        "primes_allbutfirst = primes[1:]  # This excludes the first (i.e., with index 0) prime in the list."
      ],
      "execution_count": 196,
      "outputs": []
    },
    {
      "cell_type": "code",
      "metadata": {
        "id": "QBIkUK5eo1N2"
      },
      "source": [
        "primegaps = numpy.array(primes_allbutfirst) - numpy.array(primes_allbutlast) # Numpy is fast!"
      ],
      "execution_count": 197,
      "outputs": []
    },
    {
      "cell_type": "code",
      "metadata": {
        "id": "tqGLrNREo1N2",
        "colab": {
          "base_uri": "https://localhost:8080/"
        },
        "outputId": "b0f3a070-26c5-4d16-ea39-3ffd1693f27f"
      },
      "source": [
        "print(primegaps[:100])  # The first hundred prime gaps!"
      ],
      "execution_count": 198,
      "outputs": [
        {
          "output_type": "stream",
          "name": "stdout",
          "text": [
            "[ 1  2  2  4  2  4  2  4  6  2  6  4  2  4  6  6  2  6  4  2  6  4  6  8\n",
            "  4  2  4  2  4 14  4  6  2 10  2  6  6  4  6  6  2 10  2  4  2 12 12  4\n",
            "  2  4  6  2 10  6  6  6  2  6  4  2 10 14  4  2  4 14  6 10  2  4  6  8\n",
            "  6  6  4  6  8  4  8 10  2 10  2  6  4  6  8  4  2  4 12  8  4  8  4  6\n",
            " 12  2 18  6]\n"
          ]
        }
      ]
    },
    {
      "cell_type": "markdown",
      "metadata": {
        "id": "nmMeiaSpo1N2"
      },
      "source": [
        "What have we done?  It is useful to try out this method on a short list.  "
      ]
    },
    {
      "cell_type": "code",
      "metadata": {
        "id": "on-JH3dTo1N2"
      },
      "source": [
        "L = [1,3,7,20]  # A nice short list."
      ],
      "execution_count": 199,
      "outputs": []
    },
    {
      "cell_type": "code",
      "metadata": {
        "id": "f4iyePe3o1N2",
        "colab": {
          "base_uri": "https://localhost:8080/"
        },
        "outputId": "09049a92-4113-4e37-978d-44af0389d4cf"
      },
      "source": [
        "print(L[:-1])\n",
        "print(L[1:])"
      ],
      "execution_count": 200,
      "outputs": [
        {
          "output_type": "stream",
          "name": "stdout",
          "text": [
            "[1, 3, 7]\n",
            "[3, 7, 20]\n"
          ]
        }
      ]
    },
    {
      "cell_type": "markdown",
      "metadata": {
        "id": "gpKfCHEEo1N3"
      },
      "source": [
        "Now we have two lists of the same length.  The gaps in the original list `L` are the differences between terms of the *same* index in the two new lists.  One might be tempted to just subtract, e.g., with the command `L[1:] - L[:-1]`, but subtraction is not defined for lists.\n",
        "\n",
        "Fortunately, by converting the lists to numpy arrays, we can use numpy's term-by-term subtraction operation."
      ]
    },
    {
      "cell_type": "code",
      "metadata": {
        "id": "H2Ob8Jkro1N3",
        "colab": {
          "base_uri": "https://localhost:8080/",
          "height": 169
        },
        "outputId": "9257f709-ded3-4f4c-8a24-75317139d7a8"
      },
      "source": [
        "L[1:] - L[:-1]  # This will give a TypeError.  You can't subtract lists!"
      ],
      "execution_count": 201,
      "outputs": [
        {
          "output_type": "error",
          "ename": "TypeError",
          "evalue": "ignored",
          "traceback": [
            "\u001b[0;31m---------------------------------------------------------------------------\u001b[0m",
            "\u001b[0;31mTypeError\u001b[0m                                 Traceback (most recent call last)",
            "\u001b[0;32m<ipython-input-201-0c27eb74e0a4>\u001b[0m in \u001b[0;36m<module>\u001b[0;34m\u001b[0m\n\u001b[0;32m----> 1\u001b[0;31m \u001b[0mL\u001b[0m\u001b[0;34m[\u001b[0m\u001b[0;36m1\u001b[0m\u001b[0;34m:\u001b[0m\u001b[0;34m]\u001b[0m \u001b[0;34m-\u001b[0m \u001b[0mL\u001b[0m\u001b[0;34m[\u001b[0m\u001b[0;34m:\u001b[0m\u001b[0;34m-\u001b[0m\u001b[0;36m1\u001b[0m\u001b[0;34m]\u001b[0m  \u001b[0;31m# This will give a TypeError.  You can't subtract lists!\u001b[0m\u001b[0;34m\u001b[0m\u001b[0;34m\u001b[0m\u001b[0m\n\u001b[0m",
            "\u001b[0;31mTypeError\u001b[0m: unsupported operand type(s) for -: 'list' and 'list'"
          ]
        }
      ]
    },
    {
      "cell_type": "code",
      "metadata": {
        "id": "lSkR4Dxho1N3",
        "colab": {
          "base_uri": "https://localhost:8080/"
        },
        "outputId": "4958f8a1-e976-4f27-8e41-a3d743887382"
      },
      "source": [
        "numpy.array(L[1:]) - numpy.array(L[:-1])  # That's better.  See the gaps in the list [1,3,7,20] in the output."
      ],
      "execution_count": 202,
      "outputs": [
        {
          "output_type": "execute_result",
          "data": {
            "text/plain": [
              "array([ 2,  4, 13])"
            ]
          },
          "metadata": {},
          "execution_count": 202
        }
      ]
    },
    {
      "cell_type": "markdown",
      "metadata": {
        "id": "-dVIfFnVo1N3"
      },
      "source": [
        "Now let's return to our primegaps data set.  It contains all the gap-sizes for primes up to 1 million.  "
      ]
    },
    {
      "cell_type": "code",
      "metadata": {
        "id": "i9FFJvMbo1N3",
        "colab": {
          "base_uri": "https://localhost:8080/"
        },
        "outputId": "157393b3-47af-4737-f0d1-56c1d5f849e5"
      },
      "source": [
        "print(len(primes))\n",
        "print(len(primegaps))  # This should be one less than the number of primes."
      ],
      "execution_count": 203,
      "outputs": [
        {
          "output_type": "stream",
          "name": "stdout",
          "text": [
            "78498\n",
            "78497\n"
          ]
        }
      ]
    },
    {
      "cell_type": "markdown",
      "metadata": {
        "id": "hz93cWX1o1N3"
      },
      "source": [
        "As a last example of data visualization, we use matplotlib to produce a histogram of the prime gaps."
      ]
    },
    {
      "cell_type": "code",
      "metadata": {
        "id": "6V5Nj_MCo1N3",
        "colab": {
          "base_uri": "https://localhost:8080/"
        },
        "outputId": "91ab4d3a-5564-4b08-bc43-9dc13466f06b"
      },
      "source": [
        "max(primegaps)  # The largest prime gap that appears!"
      ],
      "execution_count": 204,
      "outputs": [
        {
          "output_type": "execute_result",
          "data": {
            "text/plain": [
              "114"
            ]
          },
          "metadata": {},
          "execution_count": 204
        }
      ]
    },
    {
      "cell_type": "code",
      "metadata": {
        "id": "rOFsdO1Uo1N3",
        "colab": {
          "base_uri": "https://localhost:8080/",
          "height": 350
        },
        "outputId": "60cf0a62-5bff-4993-fbac-731e7b044b80"
      },
      "source": [
        "%matplotlib inline\n",
        "plt.figure(figsize=(12, 5))  #  Makes the resulting figure 12in by 5in.\n",
        "plt.hist(primegaps, bins=range(1,115)) #  Makes a histogram with one bin for each possible gap from 1 to 114.\n",
        "plt.ylabel('Frequency')\n",
        "plt.xlabel('Gap size')\n",
        "plt.grid(True)\n",
        "plt.title('The frequency of prime gaps, for primes up to 1 million')\n",
        "plt.show()"
      ],
      "execution_count": 205,
      "outputs": [
        {
          "output_type": "display_data",
          "data": {
            "text/plain": [
              "<Figure size 864x360 with 1 Axes>"
            ],
            "image/png": "[encoded data removed]"
          },
          "metadata": {
            "needs_background": "light"
          }
        }
      ]
    },
    {
      "cell_type": "markdown",
      "metadata": {
        "id": "kkWLq7QLo1N3"
      },
      "source": [
        "Observe that gaps of 2 (twin primes) are pretty frequent.  There are over 8000 of them, and about the same number of 4-unit gaps!  But gaps of 6 are most frequent in the population, and there are some interesting peaks at 6, 12, 18, 24, 30.  What else do you observe?"
      ]
    },
    {
      "cell_type": "markdown",
      "metadata": {
        "id": "yt5JakuSo1N3"
      },
      "source": [
        "### Exercises\n",
        "\n",
        "1.  Create functions `redprimes_upto(x)` and `blueprimes_upto(x)` which count the number of red/blue primes up to a given number `x`.  Recall that we defined red/blue primes to be those of the form 4n+1 or 4n+3, respectively.  Graph the relative proportion of red/blue primes as `x` varies from 1 to 1 million.  E.g., are the proportions 50%/50% or 70%/30%, and how do these proportions change?  Note:  this is also visualized in [An Illustrated Theory of Numbers](http://bookstore.ams.org/mbk-105) and you can read [an article by Rubinstein and Sarnak](https://projecteuclid.org/euclid.em/1048515870) for more.\n",
        "\n",
        "2.  Does there seem to be a bias in the last digits of primes?  Note that, except for 2 and 5, every prime ends in 1,3,7, or 9.  Note: the last digit of a number `n` is obtained from `n % 10`.  \n",
        "\n",
        "3.  Read about the [\"Prime Conspiracy\"](https://www.quantamagazine.org/mathematicians-discover-prime-conspiracy-20160313), recently discovered by Lemke Oliver and Soundararajan.  Can you detect their conspiracy in our data set of primes?"
      ]
    },
    {
      "cell_type": "markdown",
      "source": [
        "### Solutions ###\n",
        "\n",
        "1. See code below. The proportions are roughly even throughout but blue seems to consistently have more than red. Blue starts out with a higher proportion but as the values increase the gap generally starts to even out.\n",
        "2. See code below. The distribution for the last digits of primes seems to be very close to being evenly distributed for digits 1,3,7,9.\n",
        "3. See code below. Looking at the last digits of primes following a last digit of 1,3,7,9 shows that the digits are not evenly distributed. We do detect the Prime Conspiracy!"
      ],
      "metadata": {
        "id": "6WHFuYVg1sWL"
      }
    },
    {
      "cell_type": "code",
      "source": [
        "import numpy as np"
      ],
      "metadata": {
        "id": "bUizgQWbh5A0"
      },
      "execution_count": 206,
      "outputs": []
    },
    {
      "cell_type": "code",
      "source": [
        "def redprimes_upto(x): # exercise 1\n",
        "    return len([p for p in redprimes if p <= x])"
      ],
      "metadata": {
        "id": "zFbS3dljNHXn"
      },
      "execution_count": 207,
      "outputs": []
    },
    {
      "cell_type": "code",
      "source": [
        "len(where(isprime_list(1009)))"
      ],
      "metadata": {
        "id": "jR7HpS6o1fUN",
        "colab": {
          "base_uri": "https://localhost:8080/"
        },
        "outputId": "24308899-9245-42aa-8b10-4c0a0faaecdb"
      },
      "execution_count": 208,
      "outputs": [
        {
          "output_type": "execute_result",
          "data": {
            "text/plain": [
              "169"
            ]
          },
          "metadata": {},
          "execution_count": 208
        }
      ]
    },
    {
      "cell_type": "code",
      "source": [
        "redprimes_upto(1000000)"
      ],
      "metadata": {
        "id": "BkDzs-bC27gw",
        "colab": {
          "base_uri": "https://localhost:8080/"
        },
        "outputId": "ce18e13e-149e-4b58-a749-22e950c078fd"
      },
      "execution_count": 209,
      "outputs": [
        {
          "output_type": "execute_result",
          "data": {
            "text/plain": [
              "39175"
            ]
          },
          "metadata": {},
          "execution_count": 209
        }
      ]
    },
    {
      "cell_type": "code",
      "source": [
        "def blueprimes_upto(x): #exercise 1\n",
        "    return len([p for p in blueprimes if p <= x])"
      ],
      "metadata": {
        "id": "59mhKV_HNVFv"
      },
      "execution_count": 210,
      "outputs": []
    },
    {
      "cell_type": "code",
      "source": [
        "blueprimes_upto(1000000)"
      ],
      "metadata": {
        "id": "Fozh2GH-3eSP",
        "colab": {
          "base_uri": "https://localhost:8080/"
        },
        "outputId": "46752428-fb12-4ac3-f626-845235678c13"
      },
      "execution_count": 211,
      "outputs": [
        {
          "output_type": "execute_result",
          "data": {
            "text/plain": [
              "39322"
            ]
          },
          "metadata": {},
          "execution_count": 211
        }
      ]
    },
    {
      "cell_type": "code",
      "source": [
        "primes_upto(1000)"
      ],
      "metadata": {
        "id": "THOxVEqJIJZe",
        "colab": {
          "base_uri": "https://localhost:8080/"
        },
        "outputId": "187fad11-2ce6-443e-ab37-1e81fe65fee0"
      },
      "execution_count": 212,
      "outputs": [
        {
          "output_type": "execute_result",
          "data": {
            "text/plain": [
              "168"
            ]
          },
          "metadata": {},
          "execution_count": 212
        }
      ]
    },
    {
      "cell_type": "code",
      "source": [
        "import matplotlib.pyplot as plt\n",
        "import numpy as np\n",
        "x_values = np.linspace(3,1000000,1001) # The numpy array [0,1000,2000,3000,...,1000000]\n",
        "redx_values = np.array([redprimes_upto(x) for x in x_values])  # [FUNCTION(x) for x in LIST] syntax%matplotlib inline\n",
        "plt.plot(x_values, redx_values)\n",
        "plt.title('The Redprime counting function')\n",
        "plt.ylabel('$Redprimes$')\n",
        "plt.xlabel('x')\n",
        "plt.grid(True)\n",
        "plt.show()"
      ],
      "metadata": {
        "id": "zfxPl9ldEd_Z",
        "colab": {
          "base_uri": "https://localhost:8080/",
          "height": 295
        },
        "outputId": "048febfc-3e06-41df-b85d-70e5ab1e786b"
      },
      "execution_count": 213,
      "outputs": [
        {
          "output_type": "display_data",
          "data": {
            "text/plain": [
              "<Figure size 432x288 with 1 Axes>"
            ],
            "image/png": "[encoded data removed]"
          },
          "metadata": {
            "needs_background": "light"
          }
        }
      ]
    },
    {
      "cell_type": "code",
      "source": [
        "import matplotlib.pyplot as plt\n",
        "import numpy as np\n",
        "x_values = np.linspace(3,1000000,1001) # The numpy array [0,1000,2000,3000,...,1000000]\n",
        "bluex_values = np.array([blueprimes_upto(x) for x in x_values])  # [FUNCTION(x) for x in LIST] syntax%matplotlib inline\n",
        "plt.plot(x_values, bluex_values)\n",
        "plt.title('The Blueprime counting function')\n",
        "plt.ylabel('Blueprimes')\n",
        "plt.xlabel('x')\n",
        "plt.grid(True)\n",
        "plt.show()"
      ],
      "metadata": {
        "id": "bEKj7ffnPARD",
        "colab": {
          "base_uri": "https://localhost:8080/",
          "height": 295
        },
        "outputId": "f373a36b-ea76-417a-921a-85c2e90fd6a0"
      },
      "execution_count": 214,
      "outputs": [
        {
          "output_type": "display_data",
          "data": {
            "text/plain": [
              "<Figure size 432x288 with 1 Axes>"
            ],
            "image/png": "[encoded data removed]"
          },
          "metadata": {
            "needs_background": "light"
          }
        }
      ]
    },
    {
      "cell_type": "code",
      "source": [
        "redproport_values = redx_values[1:] / (bluex_values[1:]+ redx_values[1:] ) \n",
        "blueproport_values= bluex_values[1:] / (bluex_values[1:]+ redx_values[1:] ) # exercise 1"
      ],
      "metadata": {
        "id": "nMDXDPEeOJ_5"
      },
      "execution_count": 215,
      "outputs": []
    },
    {
      "cell_type": "code",
      "source": [
        "%matplotlib inline \n",
        "plt.plot(x_values[1:], blueproport_values, label='blue(x)/Total')\n",
        "plt.plot(x_values[1:], redproport_values, label='red(x)/Total') # exercise 1\n",
        "plt.title('The ratio $red(x) / blue(x)$ as $x$ varies.')\n",
        "plt.xlabel('First Primes up to 1 Million')\n",
        "plt.ylabel('Proportion of primes')\n",
        "plt.grid(True)\n",
        "plt.legend()\n",
        "plt.show()"
      ],
      "metadata": {
        "id": "_CvfoXdCOSaL",
        "colab": {
          "base_uri": "https://localhost:8080/",
          "height": 297
        },
        "outputId": "2609f700-0272-4ef2-acd9-9a3a96cae6f3"
      },
      "execution_count": 216,
      "outputs": [
        {
          "output_type": "display_data",
          "data": {
            "text/plain": [
              "<Figure size 432x288 with 1 Axes>"
            ],
            "image/png": "[encoded data removed]"
          },
          "metadata": {
            "needs_background": "light"
          }
        }
      ]
    },
    {
      "cell_type": "code",
      "source": [
        "primearray=np.array(primes)\n",
        "primedigits=primearray%10 # exercise 2"
      ],
      "metadata": {
        "id": "owCxDabSbBxw"
      },
      "execution_count": 217,
      "outputs": []
    },
    {
      "cell_type": "code",
      "source": [
        "%matplotlib inline\n",
        "plt.figure(figsize=(12, 5)) # exercise 2\n",
        "plt.hist(primedigits, bins=range(1,12)) \n",
        "plt.ylabel('Frequency')\n",
        "plt.xlabel('last digit')\n",
        "plt.grid(True)\n",
        "plt.title('The frequency of primes last digits, for primes up to 1 million')\n",
        "plt.show()"
      ],
      "metadata": {
        "id": "ekKo-NC0YMcH",
        "colab": {
          "base_uri": "https://localhost:8080/",
          "height": 350
        },
        "outputId": "5524d038-f835-4141-ca29-632e5f684ad0"
      },
      "execution_count": 218,
      "outputs": [
        {
          "output_type": "display_data",
          "data": {
            "text/plain": [
              "<Figure size 864x360 with 1 Axes>"
            ],
            "image/png": "[encoded data removed]"
          },
          "metadata": {
            "needs_background": "light"
          }
        }
      ]
    },
    {
      "cell_type": "code",
      "source": [
        "print(primedigits_1[:100])"
      ],
      "metadata": {
        "id": "V1mrZC9kckks",
        "colab": {
          "base_uri": "https://localhost:8080/"
        },
        "outputId": "a2781287-1952-440a-d56b-78d7f5ffca38"
      },
      "execution_count": 225,
      "outputs": [
        {
          "output_type": "stream",
          "name": "stdout",
          "text": [
            "[0 0 0 0 3 0 0 0 0 0 7 0 3 0 0 0 0 7 0 3 0 0 0 0 0 3 0 0 0 0 0 7 0 0 0 7 0\n",
            " 0 0 0 0 1 3 0 0 0 3 0 0 0 0 0 1 7 0 0 0 7 0 3 0 0 0 3 0 0 7 0 0 0 0 0 0 0\n",
            " 0 0 0 0 9 0 0 1 3 0 0 0 0 0 3 0 0 0 0 9 0 0 0 3 0 7]\n"
          ]
        }
      ]
    },
    {
      "cell_type": "code",
      "source": [
        "primedigits_1=np.array([0]*78498)\n",
        "for i in range(0,78498):\n",
        "  if primedigits[i]==1:\n",
        "    primedigits_1[i]=primedigits[i+1]"
      ],
      "metadata": {
        "id": "w7dzHq_mhJHc"
      },
      "execution_count": 220,
      "outputs": []
    },
    {
      "cell_type": "code",
      "source": [
        "primedigits_3=np.array([0]*78498)\n",
        "for i in range(1,78400):\n",
        "  if primedigits[i]==3:\n",
        "    primedigits_3[i]=primedigits[i+1]"
      ],
      "metadata": {
        "id": "JU5XTZefpEiF"
      },
      "execution_count": 221,
      "outputs": []
    },
    {
      "cell_type": "code",
      "source": [
        "primedigits_7=np.array([0]*78498)\n",
        "for i in range(1,78498):\n",
        "  if primedigits[i]==7:\n",
        "    primedigits_7[i]=primedigits[i+1]"
      ],
      "metadata": {
        "id": "g545xol97MmS"
      },
      "execution_count": 222,
      "outputs": []
    },
    {
      "cell_type": "code",
      "source": [
        "primedigits_9=np.array([0]*78498)\n",
        "for i in range(1,78498):\n",
        "  if primedigits[i]==9:\n",
        "    primedigits_9[i]=primedigits[i+1]"
      ],
      "metadata": {
        "id": "m8_guue67Pl_"
      },
      "execution_count": 223,
      "outputs": []
    },
    {
      "cell_type": "code",
      "source": [
        "%matplotlib inline\n",
        "plt.figure(figsize=(12, 5))  #  exercise 3\n",
        "plt.hist(primedigits_1, bins=range(1,12)) \n",
        "plt.ylabel('Frequency')\n",
        "plt.xlabel('last digit')\n",
        "plt.grid(True)\n",
        "plt.title('The frequency of ending prime digits after an ending digit of 1, for primes up to 1 million')\n",
        "plt.show()"
      ],
      "metadata": {
        "id": "ohFoTqzOoYfV",
        "colab": {
          "base_uri": "https://localhost:8080/",
          "height": 350
        },
        "outputId": "b4138dff-e4d7-473b-d88a-59f364a26bb2"
      },
      "execution_count": 224,
      "outputs": [
        {
          "output_type": "display_data",
          "data": {
            "text/plain": [
              "<Figure size 864x360 with 1 Axes>"
            ],
            "image/png": "[encoded data removed]"
          },
          "metadata": {
            "needs_background": "light"
          }
        }
      ]
    },
    {
      "cell_type": "code",
      "source": [
        "%matplotlib inline\n",
        "plt.figure(figsize=(12, 5))  #  exercise 3\n",
        "plt.hist(primedigits_3, bins=range(1,12)) \n",
        "plt.ylabel('Frequency')\n",
        "plt.xlabel('last digit')\n",
        "plt.grid(True)\n",
        "plt.title('The frequency of ending prime digits after an ending digit of 3, for primes up to about 1 million')\n",
        "plt.show()"
      ],
      "metadata": {
        "id": "jU_gXQvP7Tby",
        "colab": {
          "base_uri": "https://localhost:8080/",
          "height": 350
        },
        "outputId": "e317fefe-c09d-4863-ecf6-7f3e9654d7ec"
      },
      "execution_count": 226,
      "outputs": [
        {
          "output_type": "display_data",
          "data": {
            "text/plain": [
              "<Figure size 864x360 with 1 Axes>"
            ],
            "image/png": "[encoded data removed]"
          },
          "metadata": {
            "needs_background": "light"
          }
        }
      ]
    },
    {
      "cell_type": "code",
      "source": [
        "%matplotlib inline\n",
        "plt.figure(figsize=(12, 5))  #  exercise 3\n",
        "plt.hist(primedigits_7, bins=range(1,12)) \n",
        "plt.ylabel('Frequency')\n",
        "plt.xlabel('last digit')\n",
        "plt.grid(True)\n",
        "plt.title('The frequency of ending prime digits after an ending digit of 7, for primes up to 1 million')\n",
        "plt.show()"
      ],
      "metadata": {
        "id": "0yY3CUlrmZuG",
        "colab": {
          "base_uri": "https://localhost:8080/",
          "height": 350
        },
        "outputId": "471c3215-d7b7-49f1-efc6-6a18d05ba195"
      },
      "execution_count": 227,
      "outputs": [
        {
          "output_type": "display_data",
          "data": {
            "text/plain": [
              "<Figure size 864x360 with 1 Axes>"
            ],
            "image/png": "[encoded data removed]"
          },
          "metadata": {
            "needs_background": "light"
          }
        }
      ]
    },
    {
      "cell_type": "code",
      "source": [
        "%matplotlib inline\n",
        "plt.figure(figsize=(12, 5))  #  exercise 3\n",
        "plt.hist(primedigits_9, bins=range(1,12)) \n",
        "plt.ylabel('Frequency')\n",
        "plt.xlabel('last digit')\n",
        "plt.grid(True)\n",
        "plt.title('The frequency of ending prime digits after an ending digit of 9, for primes up to 1 million')\n",
        "plt.show()"
      ],
      "metadata": {
        "id": "6YGYbtTf7WxV",
        "colab": {
          "base_uri": "https://localhost:8080/",
          "height": 350
        },
        "outputId": "cc9db765-df4a-444e-b928-26448fd04a54"
      },
      "execution_count": 228,
      "outputs": [
        {
          "output_type": "display_data",
          "data": {
            "text/plain": [
              "<Figure size 864x360 with 1 Axes>"
            ],
            "image/png": "[encoded data removed]"
          },
          "metadata": {
            "needs_background": "light"
          }
        }
      ]
    }
  ]
}